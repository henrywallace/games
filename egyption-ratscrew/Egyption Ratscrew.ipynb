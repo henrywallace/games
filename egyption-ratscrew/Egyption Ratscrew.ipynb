{
 "cells": [
  {
   "cell_type": "markdown",
   "metadata": {},
   "source": [
    "# Problem Description\n",
    "\n",
    "Egyptian Ratscrew is a _very_ fun game. It basically goes like this: deal a deck of cards among your friends, face down. Then, taking turns, each person pops a card from their stack and places it face up into an intially empty pile. If someone places a royal onto the pile, then the next player is _CHALLENGED_. They must pop 1 card for a Jack, 2 for a Queen, 3 for a King, and 4 for an Ace; after which, the challenger gets to put the pile upside-down under their stack. The goal, is to be the last person with a non-empty stack. However, if someone who is challened pops a royal, then they cease popping cards and become the new challenger! Now, the most interesting quirk is that a player can slap the pile whenever the same face appears twice in a row, or appears as the bread in a 3 card sandwich. And anyone can slap in anytime, even if they have no cards left!"
   ]
  },
  {
   "cell_type": "markdown",
   "metadata": {},
   "source": [
    "# Some Questions\n",
    "\n",
    "Suppose each player has a response time following some distribution. Here are some questions we wish to be able to answer:\n",
    "\n",
    "  1. How likely is it that one can de-challenge a royal, where there are no slaps?\n",
    "  1. How does making those distributions different effect the distribution on the  number of turns?\n",
    "  1. Does the distribution of turns look the same no matter what distributions you choose for the player response times?\n",
    "  1. How strong is the correlation between \"fast\" response distribution and chance of winning?\n",
    "  1. If the number of turns follows a power distribution, what statistics are useful for describing how long a game will take?\n",
    "  1. What's a useful \"norm\" on those distributions?"
   ]
  },
  {
   "cell_type": "code",
   "execution_count": 1,
   "metadata": {
    "collapsed": true
   },
   "outputs": [],
   "source": [
    "from collections import namedtuple\n",
    "from itertools import chain\n",
    "\n",
    "Card = namedtuple('Card', ['face', 'suite'])\n",
    "royal = {'Jack': 1, 'Queen': 2, 'King': 3, 'Ace': 4}\n",
    "\n",
    "\n",
    "def new_deck():\n",
    "    cards = []\n",
    "    for face in chain(range(2, 10 + 1), royal):\n",
    "        for suite in ('Clubs', 'Diamonds', 'Hearts', 'Spades'):\n",
    "            card = Card(face, suite)\n",
    "            cards.append(card)\n",
    "    return cards"
   ]
  },
  {
   "cell_type": "code",
   "execution_count": 2,
   "metadata": {
    "collapsed": false
   },
   "outputs": [
    {
     "data": {
      "text/plain": [
       "52"
      ]
     },
     "execution_count": 2,
     "metadata": {},
     "output_type": "execute_result"
    }
   ],
   "source": [
    "len(new_deck())"
   ]
  },
  {
   "cell_type": "code",
   "execution_count": 4,
   "metadata": {
    "collapsed": true
   },
   "outputs": [],
   "source": [
    "from random import shuffle\n",
    "from collections import deque\n",
    "\n",
    "\n",
    "def deal(deck, num_players):\n",
    "    \"\"\"\n",
    "    Shuffle deck, and deal cards equally amoung `num_players` hands.\n",
    "\n",
    "    Args:\n",
    "        deck: List[Card]\n",
    "        num_players: int > 0\n",
    "\n",
    "    Returns:\n",
    "        List[collections.deque]\n",
    "    \"\"\"\n",
    "    shuffle(deck)\n",
    "\n",
    "    # Since we add the pile to the bottomfdasf  \n",
    "    hands = [deque() for _ in range(num_players)]                     \n",
    "\n",
    "    for hand in cycle(hands):\n",
    "        if not deck:\n",
    "            return hands\n",
    "        new_card = deck.pop()\n",
    "        hand.append(new_card)\n",
    "\n",
    "    return hands"
   ]
  },
  {
   "cell_type": "code",
   "execution_count": 7,
   "metadata": {
    "collapsed": true
   },
   "outputs": [],
   "source": [
    "def slappable(pile):\n",
    "    if len(pile) > 1 and pile[-1].face == pile[-2].face:\n",
    "        return True\n",
    "    if len(pile) > 2 and pile[-1].face == pile[-3].face:\n",
    "        return True\n",
    "    return False"
   ]
  },
  {
   "cell_type": "code",
   "execution_count": 34,
   "metadata": {
    "collapsed": false
   },
   "outputs": [
    {
     "name": "stdout",
     "output_type": "stream",
     "text": [
      "(278, 1)\n"
     ]
    }
   ],
   "source": [
    "from itertools import cycle\n",
    "import logging\n",
    "\n",
    "logger = logging.getLogger(__name__)\n",
    "\n",
    "# import random\n",
    "# np.random.seed(42)\n",
    "# random.seed(42)\n",
    "\n",
    "def simulate_game(num_players, response):\n",
    "    \"\"\"\n",
    "    Simulate a game of Egyptian Ratscrew.\n",
    "\n",
    "    Args:\n",
    "        responses\n",
    "    \"\"\"\n",
    "    deck = new_deck()\n",
    "    hands = deal(deck, num_players)  # hands are stacks (cards face down)\n",
    "    pile = []                        # pile is a stack (cards face up)\n",
    "    chances = 0  # number of chances for current challenged player\n",
    "    challenger = None  # index of player who played royal card\n",
    "\n",
    "    for turn, hand_index in enumerate(cycle(range(num_players)), start=1):            \n",
    "        hand = hands[hand_index]\n",
    "        \n",
    "        logger.info('{} {} {}'.format(\n",
    "            [len(hand) for hand in hands],\n",
    "            chances,\n",
    "            [card.face for card in pile]\n",
    "        ))\n",
    "\n",
    "        if sum(len(hand) > 0 for hand in hands) == 1:\n",
    "            return turn, np.argmax([len(h) for h in hands])\n",
    "        if not hand:\n",
    "            continue\n",
    "\n",
    "        if challenger is None:\n",
    "            new_card = hand.pop()\n",
    "            pile.append(new_card)\n",
    "            logger.info('player {} drew a {}'.format(hand_index, new_card.face))\n",
    "            if new_card.face in royal:\n",
    "                challenger = hand_index\n",
    "                chances = royal[new_card.face]\n",
    "        else:\n",
    "            while chances > 0 and hand:\n",
    "                new_card = hand.pop()\n",
    "                logger.info('player {} drew a {}'.format(hand_index, new_card.face))\n",
    "                pile.append(new_card)\n",
    "                chances -= 1\n",
    "\n",
    "                # A player can slap the pile even if a royal was placed.\n",
    "                if slappable(pile):\n",
    "                    fastest = np.argmax(times)\n",
    "                    logger.info('player {} slapped!'.format(fastest))\n",
    "                    hands[fastest].extendleft(reversed(pile))\n",
    "                    pile.clear()\n",
    "                    chances = 0\n",
    "                    break\n",
    "\n",
    "                # Break out of challenged if royal is placed.\n",
    "                if new_card.face in royal:\n",
    "                    challenger = hand_index\n",
    "                    chances = royal[new_card.face]\n",
    "                    break\n",
    "\n",
    "            if chances == 0:\n",
    "                hands[challenger].extendleft(reversed(pile))\n",
    "                pile.clear()\n",
    "                challenger = None\n",
    "    \n",
    "logger.setLevel(logging.WARNING)\n",
    "locs = list(truncnorm.rvs(0, np.inf, scale=0.1, size=num_players))\n",
    "times = [response_times(1, loc=loc, scale=0.1, lower=0) for loc in locs]\n",
    "\n",
    "locs = list(truncnorm.rvs(0, np.inf, scale=0.1, size=num_players))\n",
    "\n",
    "\n",
    "def response():\n",
    "    return [0 ]\n",
    "    \n",
    "\n",
    "print(simulate_game(2, 3))"
   ]
  },
  {
   "cell_type": "code",
   "execution_count": 9,
   "metadata": {
    "collapsed": false
   },
   "outputs": [
    {
     "data": {
      "text/plain": [
       "DescribeResult(nobs=100, minmax=(array([36,  0]), array([1285,    1])), mean=array([ 166.93,    0.45]), variance=array([  2.57588738e+04,   2.50000000e-01]), skewness=array([ 3.94719938,  0.20100756]), kurtosis=array([ 22.39139182,  -1.95959596]))"
      ]
     },
     "execution_count": 9,
     "metadata": {},
     "output_type": "execute_result"
    }
   ],
   "source": [
    "from scipy.stats import describe\n",
    "\n",
    "num_simulations = 100\n",
    "num_players = 2\n",
    "\n",
    "turns = [simulate_game(num_players, .1) for _ in range(num_simulations)]\n",
    "turns = [t for t in turns if t is not None]\n",
    "describe(turns)"
   ]
  }
 ],
 "metadata": {
  "kernelspec": {
   "display_name": "Python 3",
   "language": "python",
   "name": "python3"
  },
  "language_info": {
   "codemirror_mode": {
    "name": "ipython",
    "version": 3
   },
   "file_extension": ".py",
   "mimetype": "text/x-python",
   "name": "python",
   "nbconvert_exporter": "python",
   "pygments_lexer": "ipython3",
   "version": "3.6.0"
  }
 },
 "nbformat": 4,
 "nbformat_minor": 2
}
