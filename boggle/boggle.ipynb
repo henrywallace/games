{
 "cells": [
  {
   "cell_type": "markdown",
   "metadata": {
    "deletable": true,
    "editable": true
   },
   "source": [
    "# Common Boggle Words"
   ]
  },
  {
   "cell_type": "markdown",
   "metadata": {
    "deletable": true,
    "editable": true
   },
   "source": [
    "Let's find the most common words that appear in Boggle boards. There are about $16! \\cdot 6^{16} \\approx 5.9 \\times 10^{25}$ different boards, not taking duplicate letters into account, such that we must recourse to sampling to in order to find word probabilities.\n",
    "\n",
    "Boggle is a game with a square board, with 16 slots for cubes. Each cube has letters on its 6 faces. At the start of each game, the board is shuffled so that each cube is in a random slot, and each cube has a random face showing.\n",
    "\n",
    "The goal of the game is to find as many chains of showing letters as possible on the resultant board. A player's score is based on the number of words that no other player found (larger unique words get higher scores). To be precise, a word chain must be a non-repeating sequence of horizontally, vertically, or diagonally contiguous cubes. Now, the same letter may appear twice in a path, but not the same cube. The words must belong to an agreed upon dictionary, and have some minimum length."
   ]
  },
  {
   "cell_type": "markdown",
   "metadata": {
    "deletable": true,
    "editable": true
   },
   "source": [
    "## Simulating Boggle"
   ]
  },
  {
   "cell_type": "markdown",
   "metadata": {
    "deletable": true,
    "editable": true
   },
   "source": [
    "Here are the 16 cubes one will find in a standard Boggle board:"
   ]
  },
  {
   "cell_type": "code",
   "execution_count": 1,
   "metadata": {
    "collapsed": true,
    "deletable": true,
    "editable": true
   },
   "outputs": [],
   "source": [
    "cubes = [('m', 'u', 'qu', 'h', 'n', 'i'),\n",
    "         ('n', 'g', 'e', 'e', 'a', 'a'),\n",
    "         ('d', 'r', 'y', 'v', 'l', 'e'),\n",
    "         ('t', 't', 'r', 'e', 'y', 'l'),\n",
    "         ('o', 'a', 'b', 'b', 'o', 'j'),\n",
    "         ('h', 'w', 'v', 'e', 'r', 't'),\n",
    "         ('s', 's', 'o', 'i', 't', 'e'),\n",
    "         ('s', 'h', 'a', 'p', 'c', 'o'),\n",
    "         ('g', 'e', 'w', 'n', 'e', 'h'),\n",
    "         ('u', 'm', 'c', 'o', 't', 'i'),\n",
    "         ('n', 'h', 'n', 'l', 'z', 'r'),\n",
    "         ('t', 'w', 'a', 'o', 't', 'o'),\n",
    "         ('p', 's', 'a', 'f', 'f', 'k'),\n",
    "         ('t', 's', 't', 'i', 'd', 'y'),\n",
    "         ('e', 'r', 'l', 'i', 'x', 'd'),\n",
    "         ('s', 'u', 'e', 'e', 'n', 'i')]"
   ]
  },
  {
   "cell_type": "markdown",
   "metadata": {
    "deletable": true,
    "editable": true
   },
   "source": [
    "To simulate the process of shuffling a board, both the slot and face of each cube will be chosen uniformly."
   ]
  },
  {
   "cell_type": "code",
   "execution_count": 2,
   "metadata": {
    "collapsed": true,
    "deletable": true,
    "editable": true
   },
   "outputs": [],
   "source": [
    "from random import choice, shuffle\n",
    "from itertools import islice\n",
    "\n",
    "\n",
    "def rand_board():\n",
    "    board = []\n",
    "    shuffle(cubes)\n",
    "    cube_order = iter(cubes)\n",
    "    for i in range(4):\n",
    "        row = islice(cube_order, 4)\n",
    "        board.append([choice(cube) for cube in row])\n",
    "    return board"
   ]
  },
  {
   "cell_type": "code",
   "execution_count": 3,
   "metadata": {
    "collapsed": false,
    "deletable": true,
    "editable": true
   },
   "outputs": [
    {
     "data": {
      "text/plain": [
       "[['n', 'c', 'e', 't'],\n",
       " ['s', 'e', 'n', 's'],\n",
       " ['e', 'i', 's', 'd'],\n",
       " ['a', 'o', 'l', 't']]"
      ]
     },
     "execution_count": 3,
     "metadata": {},
     "output_type": "execute_result"
    }
   ],
   "source": [
    "rand_board()"
   ]
  },
  {
   "cell_type": "markdown",
   "metadata": {
    "deletable": true,
    "editable": true
   },
   "source": [
    "To find viable words on a board, we'll recursively traverse adjoining letters from each of the 16 cube slots. Once a sequence goes out of bounds or repeats a cube, traversal in that direction will stop. \n",
    "\n",
    "Now, at each step in this process we could look up the sequence in a hash table (dictionary). But, it may be the case that the current sequence is no prefix of any dictionary word. So, it will be much more efficient to store the dictionary in a trie. [Here](http://stackoverflow.com/a/11016430) is an inspiring elegant implementation."
   ]
  },
  {
   "cell_type": "code",
   "execution_count": 4,
   "metadata": {
    "collapsed": false,
    "deletable": true,
    "editable": true
   },
   "outputs": [],
   "source": [
    "def make_trie(words):\n",
    "    root = {}\n",
    "    for word in words:\n",
    "        node = root\n",
    "        for letter in word:\n",
    "            node = node.setdefault(letter, {})\n",
    "        node[None] = None    # signify that node is a word\n",
    "    return root"
   ]
  },
  {
   "cell_type": "code",
   "execution_count": 5,
   "metadata": {
    "collapsed": false,
    "deletable": true,
    "editable": true
   },
   "outputs": [
    {
     "name": "stdout",
     "output_type": "stream",
     "text": [
      "{\n",
      "  \"a\": {\n",
      "    \"p\": {\n",
      "      \"p\": {\n",
      "        \"l\": {\n",
      "          \"y\": {\n",
      "            \"null\": null\n",
      "          },\n",
      "          \"e\": {\n",
      "            \"null\": null\n",
      "          }\n",
      "        }\n",
      "      },\n",
      "      \"t\": {\n",
      "        \"null\": null\n",
      "      }\n",
      "    }\n",
      "  }\n",
      "}\n"
     ]
    }
   ],
   "source": [
    "import json\n",
    "\n",
    "\n",
    "t = make_trie(['apply', 'apple', 'apt'])\n",
    "print(json.dumps(t, indent=2))"
   ]
  },
  {
   "cell_type": "markdown",
   "metadata": {
    "deletable": true,
    "editable": true
   },
   "source": [
    "Now let's write a recursive function that generates unique words on a given board, of at least some length."
   ]
  },
  {
   "cell_type": "code",
   "execution_count": 6,
   "metadata": {
    "collapsed": false,
    "deletable": true,
    "editable": true
   },
   "outputs": [],
   "source": [
    "from itertools import product\n",
    "\n",
    "\n",
    "def get_words(board, trie, min_len=3):\n",
    "    '''Yield possible words from a given board and trie.'''\n",
    "    offsets = [(-1, -1), (-1, 0), (-1, 1),\n",
    "               (0,  -1),          (0,  1),\n",
    "               (1,  -1), (1,  0), (1,  1)]\n",
    "    \n",
    "    def recur(i, j, path, seen, node):\n",
    "        if (i, j) in seen:    # path can't cross itself\n",
    "            return\n",
    "        if not (0 <= i < 4) or not (0 <= j < 4):    # path can't wrap around board\n",
    "            return\n",
    "        letter = board[i][j]\n",
    "        path += letter\n",
    "        seen.add((i, j))\n",
    "        if letter in node:    # path is a prefix\n",
    "            if None in node[letter]:    # path is a word\n",
    "                yield path\n",
    "            for i_off, j_off in offsets:    # traverse neighbors even if path is word\n",
    "                yield from recur(i + i_off, j + j_off, path, seen.copy(), node[letter])\n",
    "    \n",
    "    seen = set()\n",
    "    for i, j in product(range(4), range(4)):\n",
    "        for word in recur(i, j, '', set(), trie):\n",
    "            if len(word) >= min_len and word not in seen:\n",
    "                yield word\n",
    "                seen.add(word)"
   ]
  },
  {
   "cell_type": "markdown",
   "metadata": {
    "deletable": true,
    "editable": true
   },
   "source": [
    "Finding words necessitates a dictionary, and a _Scrabble_-esque dictionary seems fitting. Conveniently, the analagous _Words With Friends_ game's dictionary is [publicly available](http://gaming.stackexchange.com/a/7163): the Enhanced North American Benchmark Lexicon. So I'm going to use that."
   ]
  },
  {
   "cell_type": "code",
   "execution_count": 7,
   "metadata": {
    "collapsed": false,
    "deletable": true,
    "editable": true
   },
   "outputs": [],
   "source": [
    "with open('enable1.txt') as f:\n",
    "    trie = make_trie(word.strip() for word in f)"
   ]
  },
  {
   "cell_type": "markdown",
   "metadata": {
    "deletable": true,
    "editable": true
   },
   "source": [
    "## Estimating Word Probabilities"
   ]
  },
  {
   "cell_type": "markdown",
   "metadata": {
    "deletable": true,
    "editable": true
   },
   "source": [
    "To estimate word frequencies, we'll gather relative frequencies from random boards. But how many boards to sample from?\n",
    "\n",
    "We can view the appearance of a specific word as a Bernoulli random variable with some unknown probability. We'd like to sample enough boards so that the resultant $k$ most common words is are in fact the most common, and in order.\n",
    "\n",
    "In the land of probability bounds, where Markov and Chebyshev wander wide, one called Hoeffding's inequality is particularly powerful when it comes to Bernoulli variables. It can tell us how tight an $\\epsilon$-sized confidence interval should be with $n$ samples.\n",
    "\n",
    "Specifically, let $X_1, \\ldots, X_n \\sim \\mathrm{Bernoulli}(p)$. Then, for any $\\epsilon > 0$,\n",
    "\n",
    "$$P(\\left| \\overline{X_n} - p \\right| > \\epsilon) \\le 2 e^{-2n\\epsilon^2}$$\n",
    "\n",
    "So, to be $\\alpha$ confident that some variable is within error $\\epsilon$ of it's true value, we'll need\n",
    "\n",
    "$$n \\ge \\frac{1}{2\\epsilon^2}\\log{\\frac{2}{\\alpha}}$$\n",
    "\n",
    "samples.\n",
    "\n",
    "This applies to any Bernoullie variable, and each random Boggle board gives a Bernoulli value to every word (it appears or it doesn't). So, we can just sample a bunch of boards, which will probably produce a tight enough bound.\n",
    "\n",
    "However, we'll have to be very diligent about choosing our confidence $\\alpha$, and tightness $\\epsilon$. We can't guarantee that the top $k$ words are in fact the top $k$, and in order, but it does ossify those top probabilities with a diligently chosen $\\epsilon$.\n",
    "\n",
    "Experimenting with 1000 boards showed that top 10 words' probabilities overlap, suggesting that we need $\\epsilon < 0.001$ to be, say, $\\alpha = 0.1$ confident that the ordering is correct. Unfortunately, this would lead to $n \\ge 1.5 \\times 10^6$ boards, which is too many hours of computation. Instead we'll shoot for just having the same set of top words, rather than correct ranking. The difference in probability between the empirical most common word and the 20th (we choose $k$ arbitrarily) was about 0.01, yielding $n \\ge 14979$ boards, which is more manageable."
   ]
  },
  {
   "cell_type": "code",
   "execution_count": 20,
   "metadata": {
    "collapsed": false,
    "deletable": true,
    "editable": true
   },
   "outputs": [
    {
     "name": "stdout",
     "output_type": "stream",
     "text": [
      "  Rank  Word      Frequency\n",
      "------  ------  -----------\n",
      "     1  tees         0.0648\n",
      "     2  teen         0.0647\n",
      "     3  tent         0.0602\n",
      "     4  tone         0.0601\n",
      "     5  note         0.0591\n",
      "     6  teat         0.0575\n",
      "     7  toea         0.0556\n",
      "     8  nets         0.0549\n",
      "     9  test         0.0545\n",
      "    10  neat         0.0536\n",
      "    11  toes         0.0533\n",
      "    12  sent         0.0532\n",
      "    13  nest         0.0531\n",
      "    14  tens         0.0530\n",
      "    15  rete         0.0521\n",
      "    16  thee         0.0515\n",
      "    17  tets         0.0512\n",
      "    18  stet         0.0512\n",
      "    19  nett         0.0512\n",
      "    20  eats         0.0503\n",
      "CPU times: user 47.5 s, sys: 300 ms, total: 47.8 s\n",
      "Wall time: 1min 2s\n"
     ]
    }
   ],
   "source": [
    "%%time\n",
    "from collections import Counter\n",
    "from tabulate import tabulate\n",
    "import multiprocessing as mp\n",
    "\n",
    "NBOARDS = 14979\n",
    "\n",
    "\n",
    "def update_counts(_):\n",
    "    board = rand_board()\n",
    "    return Counter(get_words(board, trie, min_len=4))\n",
    "\n",
    "\n",
    "counts = Counter()\n",
    "nprocs = mp.cpu_count()\n",
    "with mp.Pool(processes=nprocs) as pool:\n",
    "    it = pool.imap_unordered(update_counts, range(NBOARDS),\n",
    "                             chunksize=500)\n",
    "    for sampled_counts in it:\n",
    "        counts += sampled_counts\n",
    "\n",
    "\n",
    "table = [(i, word, count/NBOARDS) for i, (word, count)\n",
    "         in enumerate(counts.most_common(20), start=1)]\n",
    "print(tabulate(table, headers=['Rank', 'Word', 'Frequency'], floatfmt='.4f'))"
   ]
  },
  {
   "cell_type": "markdown",
   "metadata": {
    "deletable": true,
    "editable": true
   },
   "source": [
    "## Common and Ordinary Word Ranking"
   ]
  },
  {
   "cell_type": "markdown",
   "metadata": {
    "deletable": true,
    "editable": true
   },
   "source": [
    "The most common list is interesting, but some of the words are so ordinary that other players will probably know them and also find them. To improve one's chances of winning Boggle, it would be nice to have a ranking that takes into account both a word's probability of occurence, *and ordinariness*.\n",
    "\n",
    "This is reminiscent [tf-idf weighting](http://nlp.stanford.edu/IR-book/html/htmledition/tf-idf-weighting-1.html)! Our current list gives us the *term frequency*, so all that remains is to find each term's *inverse document frequency*. Here, we assume that usage corresponds to how likely it is for a word to be known.\n",
    "\n",
    "We'll use word usage counts from [American National Corpus](http://www.anc.org/data/anc-second-release/frequency-data/). However, some of the words from Boggle might have various endings (e.g. \"apple\", \"apples\"), and those should add in frequency for \"ordinariness.\" So we'll stem the words for lookup."
   ]
  },
  {
   "cell_type": "code",
   "execution_count": 10,
   "metadata": {
    "collapsed": false,
    "deletable": true,
    "editable": true
   },
   "outputs": [],
   "source": [
    "from nltk.stem import SnowballStemmer\n",
    "from collections import defaultdict\n",
    "\n",
    "\n",
    "snow = SnowballStemmer('english')\n",
    "freqs = defaultdict(int)\n",
    "min_freq = 1    # smallest frequency found, for use with Boggle words not in list\n",
    "\n",
    "with open('ANC-token-count.txt', encoding='ISO-8859-1') as f:    # there's weird characters\n",
    "    for word, *_, freq in map(str.split, f):\n",
    "        if word == 'Total':    # there was a total count of words at the end\n",
    "            continue\n",
    "        word, freq = snow.stem(word), float(freq)\n",
    "        freqs[word] += freq\n",
    "        min_freq = freqs[word]"
   ]
  },
  {
   "cell_type": "markdown",
   "metadata": {
    "deletable": true,
    "editable": true
   },
   "source": [
    "Now, we just need to calculate the scores of the words output a new sorted list."
   ]
  },
  {
   "cell_type": "code",
   "execution_count": 11,
   "metadata": {
    "collapsed": false,
    "deletable": true,
    "editable": true
   },
   "outputs": [
    {
     "name": "stdout",
     "output_type": "stream",
     "text": [
      "  Rank  Word      Score\n",
      "------  ------  -------\n",
      "     1  seel    55.86\n",
      "     2  stet    54.0779\n",
      "     3  hest    52.0857\n",
      "     4  sett    49.8272\n",
      "     5  yett    47.2199\n",
      "     6  tews    47.2199\n",
      "     7  roti    47.2199\n",
      "     8  heth    47.2199\n",
      "     9  hent    47.2199\n",
      "    10  haet    47.2199\n",
      "    11  thio    45.2848\n",
      "    12  teth    45.2848\n",
      "    13  sone    45.2848\n",
      "    14  erst    45.2848\n",
      "    15  teel    44.1361\n",
      "    16  seta    44.1361\n",
      "    17  sego    44.1361\n",
      "    18  osar    44.1361\n",
      "    19  naoi    44.1361\n",
      "    20  hoer    44.1361\n"
     ]
    }
   ],
   "source": [
    "from math import log\n",
    "\n",
    "\n",
    "tfs, idfs = [], []\n",
    "for word, count in counts.items():\n",
    "    word = snow.stem(word)\n",
    "    tfs.append(1 + log(count))\n",
    "    idfs.append(log(1 + 1/freqs.get(word, min_freq)))\n",
    "\n",
    "scores = sorted([(tf*idf, word) for tf, idf, word in zip(tfs, idfs, counts.keys())], reverse=True)\n",
    "table = [(i, word, score) for i, (score, word) in enumerate(scores[:20], start=1)]\n",
    "print(tabulate(table, headers=['Rank', 'Word', 'Score']))"
   ]
  },
  {
   "cell_type": "markdown",
   "metadata": {
    "collapsed": true,
    "deletable": true,
    "editable": true
   },
   "source": [
    "# Epilogue\n",
    "\n",
    "After completing this task, several sub-topics came to mind. We address some of those here. Unlike in previous sections, we will be lax proving the correct number of boards."
   ]
  },
  {
   "cell_type": "markdown",
   "metadata": {
    "deletable": true,
    "editable": true
   },
   "source": [
    "## Number of Possible Words Distribution"
   ]
  },
  {
   "cell_type": "markdown",
   "metadata": {
    "deletable": true,
    "editable": true
   },
   "source": [
    "It would be interesting to see the minimum, maximum, mean, etc. of the number of words found over all boards. For the sake of brevity, rather than fitting the distribution and devising estimators, we'll just plot a simple histogram. And I choose an arbitrarily large number of boards to sample from."
   ]
  },
  {
   "cell_type": "code",
   "execution_count": null,
   "metadata": {
    "collapsed": false,
    "deletable": true,
    "editable": true
   },
   "outputs": [],
   "source": [
    "import matplotlib.pyplot as plt\n",
    "import seaborn\n",
    "\n",
    "\n",
    "%matplotlib inline\n",
    "seaborn.set_context('notebook')\n",
    "seaborn.set_style('whitegrid')\n",
    "\n",
    "num_words = []\n",
    "for _ in range(2000):\n",
    "    num_words.append(len(list(get_words(rand_board(), trie))))\n",
    "    \n",
    "plt.hist(num_words, bins=40, normed=True)\n",
    "plt.title('Number of Possible Words Distribution')\n",
    "plt.xlabel('Number of words')\n",
    "plt.ylabel('Proportion')\n",
    "plt.show()"
   ]
  },
  {
   "cell_type": "markdown",
   "metadata": {
    "deletable": true,
    "editable": true
   },
   "source": [
    "## Best Proportion of Vowels"
   ]
  },
  {
   "cell_type": "markdown",
   "metadata": {
    "deletable": true,
    "editable": true
   },
   "source": [
    "A friend gave the comment that the \"best\" Boggle boards are comprised of 40% vowels. Best, here, was intended to mean highest number of word solutions. Now to experimentally prove this claim."
   ]
  },
  {
   "cell_type": "code",
   "execution_count": null,
   "metadata": {
    "collapsed": false,
    "deletable": true,
    "editable": true
   },
   "outputs": [],
   "source": [
    "from itertools import chain\n",
    "from collections import defaultdict\n",
    "\n",
    "\n",
    "NBOARDS = 1000\n",
    "data = defaultdict(int)    # store how many words found per vowel, summed over boards\n",
    "vowels = set('aeiou')    # for simplicity we assume that these are the only vowels\n",
    "\n",
    "for _ in range(NBOARDS):\n",
    "    num_vowels = 0\n",
    "    board = rand_board()\n",
    "    for letter in chain(*board):\n",
    "        if letter in vowels:\n",
    "            num_vowels += 1\n",
    "    num_words = len(list(get_words(board, trie, min_len=4)))\n",
    "    data[num_vowels] += num_words"
   ]
  },
  {
   "cell_type": "markdown",
   "metadata": {
    "deletable": true,
    "editable": true
   },
   "source": [
    "Now to plot the mean number of found words per number of vowels:"
   ]
  },
  {
   "cell_type": "code",
   "execution_count": null,
   "metadata": {
    "collapsed": false,
    "deletable": true,
    "editable": true
   },
   "outputs": [],
   "source": [
    "x, y = zip(*data.items())\n",
    "\n",
    "plt.plot(x, [t/NBOARDS for t in y], 'bo:')\n",
    "plt.title(r'Number of Words in Board per Vowel')\n",
    "plt.xlabel('Number of vowels')\n",
    "plt.ylabel('Total number of found words')\n",
    "plt.show()"
   ]
  },
  {
   "cell_type": "code",
   "execution_count": null,
   "metadata": {
    "collapsed": false,
    "deletable": true,
    "editable": true
   },
   "outputs": [],
   "source": [
    "6/16"
   ]
  },
  {
   "cell_type": "markdown",
   "metadata": {
    "deletable": true,
    "editable": true
   },
   "source": [
    "Would you look at that, 40% was pretty spot on for an off the cuff comment."
   ]
  },
  {
   "cell_type": "markdown",
   "metadata": {
    "deletable": true,
    "editable": true
   },
   "source": [
    "## Super Big Boggle"
   ]
  },
  {
   "cell_type": "code",
   "execution_count": 54,
   "metadata": {
    "collapsed": true,
    "deletable": true,
    "editable": true
   },
   "outputs": [],
   "source": [
    "big_cubes = [\n",
    "    ('s', 's', 's', 'u', 'n', 'e'),\n",
    "    ('qu', 'j', 'k', 'z', 'w', 'x'),\n",
    "    ('a', 'a', 'a', 's', 'f', 'r'),\n",
    "    ('h', 'o', 'r', 'd', 'l', 'n'),\n",
    "    ('g', 'o', 'r', 'w', 'r', 'v'),\n",
    "    ('f', 's', 'i', 'r', 'a', 'a'),\n",
    "    ('an', 'in', 'er', 'he', 'th', 'qu'),\n",
    "    ('a', 'e', 'a', 'e', 'e', 'e'),\n",
    "    ('l', 'i', 'e', 'a', 'n', 'm'),\n",
    "    ('g', 'f', 'n', 'u', 'y', 'c'),\n",
    "    ('a', 'e', 'm', 'e', 'e', 'e'),\n",
    "    ('h', 'd', 't', 'n', 'o', 'd'),\n",
    "    ('h', 's', 'e', 'r', 'i', 'l'),\n",
    "    ('n', 'u', 'e', 'o', 'i', 'a'),\n",
    "    ('o', 'n', 'd', 'w', 'h', 'h'),\n",
    "    ('a', 'o', 'i', 'e', 'b', 'd'),\n",
    "    ('l', 'h', 'h', 'r', 'd', 'o'),\n",
    "    ('g', 'n', 'a', 'm', 'n', 'e'),\n",
    "    ('s', 't', 'r', 'h', 'p', 'o'),\n",
    "    ('n', 'd', 'e', 'a', 'n', 'n'),\n",
    "    ('o', 'o', 'a', 'e', 'a', 'e'),\n",
    "    ('t', 'm', 't', 'e', 'o', 't'),\n",
    "    ('t', 'i', 's', 'r', 'v', 'h'),\n",
    "    ('a', 'e', 'm', 'g', 'u', 'e'),\n",
    "    ('t', 'i', 'l', 's', 'p', 'e'),\n",
    "    ('n', 'o', 'w', 'o', 'u', 't'),\n",
    "    ('y', 'r', 'y', 's', 'i', 'p'),\n",
    "    ('e', 's', 'p', 't', 'i', 'c'),\n",
    "    ('c', 't', 'n', 's', 'e', 'c'),\n",
    "    ('y', 'r', 'f', 's', 'i', 'a'),\n",
    "    ('l', 'c', 'd', 'd', 'n', 'n'),\n",
    "    ('t', 'i', 't', 'c', 't', 'e', 'i'),\n",
    "    ('e', 't', 'i', 'l', 'i', 's'),\n",
    "    ('j', 'b', 'b', 'z', 'x', 'k'),\n",
    "    ('o', 'o', 'o', 't', 'u', 't'),\n",
    "    ('o', 'i', None, None, 'e', None)\n",
    "]"
   ]
  }
 ],
 "metadata": {
  "kernelspec": {
   "display_name": "Python 3",
   "language": "python",
   "name": "python3"
  },
  "language_info": {
   "codemirror_mode": {
    "name": "ipython",
    "version": 3
   },
   "file_extension": ".py",
   "mimetype": "text/x-python",
   "name": "python",
   "nbconvert_exporter": "python",
   "pygments_lexer": "ipython3",
   "version": "3.6.0"
  }
 },
 "nbformat": 4,
 "nbformat_minor": 0
}
