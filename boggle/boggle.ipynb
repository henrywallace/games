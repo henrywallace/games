{
 "cells": [
  {
   "cell_type": "code",
   "execution_count": 1,
   "metadata": {},
   "outputs": [
    {
     "name": "stdout",
     "output_type": "stream",
     "text": [
      "3.6.2 (default, Jul 17 2017, 16:44:45) \n",
      "[GCC 4.2.1 Compatible Apple LLVM 8.1.0 (clang-802.0.42)]\n"
     ]
    }
   ],
   "source": [
    "import sys\n",
    "print(sys.version)"
   ]
  },
  {
   "cell_type": "markdown",
   "metadata": {},
   "source": [
    "# Common Boggle Words"
   ]
  },
  {
   "cell_type": "markdown",
   "metadata": {},
   "source": [
    "What words appear most often in a game of Boggle?\n",
    "\n",
    "[Naively](https://english.stackexchange.com/questions/12747/is-it-spelt-na%C3%AFve-or-naive), we can count $16! \\cdot 6^{16} \\approx 5.9 \\cdot 10^{25}$ different boards, not taking duplicate letters into account. This many boards is too a numerous; even if discovering words per board was as fast as $\\mathcal{O}(\\mathtt{pass})$, it would be too much."
   ]
  },
  {
   "cell_type": "code",
   "execution_count": 2,
   "metadata": {},
   "outputs": [
    {
     "ename": "OverflowError",
     "evalue": "normalized days too large to fit in a C int",
     "output_type": "error",
     "traceback": [
      "\u001b[1;31m---------------------------------------------------------------------------\u001b[0m",
      "\u001b[1;31mOverflowError\u001b[0m                             Traceback (most recent call last)",
      "\u001b[1;32m<ipython-input-2-305267f68761>\u001b[0m in \u001b[0;36m<module>\u001b[1;34m()\u001b[0m\n\u001b[0;32m     18\u001b[0m \u001b[0ma\u001b[0m\u001b[1;33m,\u001b[0m \u001b[0mb\u001b[0m \u001b[1;33m=\u001b[0m \u001b[0mnp\u001b[0m\u001b[1;33m.\u001b[0m\u001b[0mpolyfit\u001b[0m\u001b[1;33m(\u001b[0m\u001b[0mx\u001b[0m\u001b[1;33m,\u001b[0m \u001b[0my\u001b[0m\u001b[1;33m,\u001b[0m \u001b[0mdeg\u001b[0m\u001b[1;33m=\u001b[0m\u001b[1;36m1\u001b[0m\u001b[1;33m)\u001b[0m\u001b[1;33m\u001b[0m\u001b[0m\n\u001b[0;32m     19\u001b[0m \u001b[0mseconds\u001b[0m \u001b[1;33m=\u001b[0m \u001b[0ma\u001b[0m\u001b[1;33m*\u001b[0m\u001b[1;36m1e25\u001b[0m \u001b[1;33m-\u001b[0m \u001b[0mb\u001b[0m\u001b[1;33m\u001b[0m\u001b[0m\n\u001b[1;32m---> 20\u001b[1;33m \u001b[0mprint\u001b[0m\u001b[1;33m(\u001b[0m\u001b[0mtimedelta\u001b[0m\u001b[1;33m(\u001b[0m\u001b[0mseconds\u001b[0m\u001b[1;33m)\u001b[0m\u001b[1;33m)\u001b[0m\u001b[1;33m\u001b[0m\u001b[0m\n\u001b[0m",
      "\u001b[1;31mOverflowError\u001b[0m: normalized days too large to fit in a C int"
     ]
    }
   ],
   "source": [
    "import time\n",
    "import numpy as np\n",
    "from datetime import timedelta\n",
    "\n",
    "\n",
    "def simple_loop(n):\n",
    "    \"\"\"Return how many seconds a simple loop takes.\"\"\"\n",
    "    start = time.time()\n",
    "    for _ in range(n):\n",
    "        pass\n",
    "    return time.time() - start\n",
    "\n",
    "\n",
    "\n",
    "x = np.arange(start=1, stop=1e6, step=1e4)\n",
    "y = [simple_loop(int(n)) for n in x]\n",
    "\n",
    "a, b = np.polyfit(x, y, deg=1)\n",
    "seconds = a*1e25 - b\n",
    "print(timedelta(seconds))"
   ]
  },
  {
   "cell_type": "markdown",
   "metadata": {},
   "source": [
    "Great Scott!"
   ]
  },
  {
   "cell_type": "code",
   "execution_count": 3,
   "metadata": {},
   "outputs": [
    {
     "data": {
      "text/plain": [
       "6.769637001126942"
      ]
     },
     "execution_count": 3,
     "metadata": {},
     "output_type": "execute_result"
    }
   ],
   "source": [
    "from math import log10\n",
    "\n",
    "\n",
    "C_MAX_INT = 2**31\n",
    "log10(C_MAX_INT/365)"
   ]
  },
  {
   "cell_type": "markdown",
   "metadata": {},
   "source": [
    "So we will recourse to sampling!\n",
    "\n",
    "The game Boggle has a square board, with 16 slots for cubes. Each cube has letters on its 6 faces. Starting each game, the board is shuffled so that each cube is in a random slot, _and_ each cube has a random face showing.\n",
    "\n",
    "Players compete to find most words showing on the resultant board. A player's score is based on the number of words that no other players found. Where longer words that no other players found are scored higher.\n",
    "\n",
    "Words can be constructed from any non-repeating contiguous sequence of horizontal, vertical, or diagonal cubes. But sequences can't wrap around the board. Note too that the same letter may appear twice in a path, but not the same cube.\n",
    "\n",
    "\n",
    "Lastly, the words must belong to an agreed upon dictionary, and be at least some minimum length."
   ]
  },
  {
   "cell_type": "markdown",
   "metadata": {},
   "source": [
    "## Simulating Boggle"
   ]
  },
  {
   "cell_type": "markdown",
   "metadata": {},
   "source": [
    "There are 16 cubes one will find in a standard Boggle board:"
   ]
  },
  {
   "cell_type": "code",
   "execution_count": 7,
   "metadata": {},
   "outputs": [],
   "source": [
    "cubes = [\n",
    "    ('a', 'a', 'e', 'e', 'g', 'n'),\n",
    "    ('a', 'b', 'b', 'j', 'o', 'o'), \n",
    "    ('a', 'c', 'h', 'o', 'p', 's'),\n",
    "    ('a', 'f', 'f', 'k', 'p', 's'),\n",
    "    ('a', 'o', 'o', 't', 't', 'w'),\n",
    "    ('c', 'i', 'm', 'o', 't', 'u'),\n",
    "    ('d', 'e', 'i', 'l', 'r', 'x'),\n",
    "    ('d', 'e', 'l', 'r', 'v', 'y'),\n",
    "    ('d', 'i', 's', 't', 't', 'y'),\n",
    "    ('e', 'e', 'g', 'h', 'n', 'w'),\n",
    "    ('e', 'e', 'i', 'n', 's', 'u'),\n",
    "    ('e', 'h', 'r', 't', 'v', 'w'),\n",
    "    ('e', 'i', 'o', 's', 's', 't'),\n",
    "    ('e', 'l', 'r', 't', 't', 'y'),\n",
    "    ('h', 'i', 'm', 'n', 'qu', 'u'),\n",
    "    ('h', 'l', 'n', 'n', 'r', 'z'),\n",
    "]"
   ]
  },
  {
   "cell_type": "markdown",
   "metadata": {},
   "source": [
    "To simulate the process of shuffling a board, we uniformly choose a slots and faces."
   ]
  },
  {
   "cell_type": "code",
   "execution_count": 8,
   "metadata": {
    "collapsed": true
   },
   "outputs": [],
   "source": [
    "from random import choice, shuffle\n",
    "from itertools import islice\n",
    "\n",
    "\n",
    "def rand_board():\n",
    "    board = []\n",
    "    shuffle(cubes)\n",
    "    cube_order = iter(cubes)\n",
    "    for i in range(4):\n",
    "        row = islice(cube_order, 4)\n",
    "        board.append([choice(cube) for cube in row])\n",
    "    return board"
   ]
  },
  {
   "cell_type": "code",
   "execution_count": 9,
   "metadata": {},
   "outputs": [
    {
     "data": {
      "text/plain": [
       "[['w', 't', 'i', 'p'],\n",
       " ['n', 'x', 'e', 'n'],\n",
       " ['r', 'e', 's', 's'],\n",
       " ['t', 'b', 'n', 't']]"
      ]
     },
     "execution_count": 9,
     "metadata": {},
     "output_type": "execute_result"
    }
   ],
   "source": [
    "rand_board()"
   ]
  },
  {
   "cell_type": "markdown",
   "metadata": {},
   "source": [
    "To find viable words on a board, we'll recursively traverse paths across the showing letters. Once a sequence goes out of bounds or repeats a cube, traversal in that direction will stop. \n",
    "\n",
    "Now, at each step in this process we could look up the sequence in a hash table. But, it may be the case that the current sequence is not a prefix of any word in the dictionary. So, it will be more efficient to store the dictionary in a trie. [Here](http://stackoverflow.com/a/11016430) is an inspiring elegant implementation."
   ]
  },
  {
   "cell_type": "code",
   "execution_count": 10,
   "metadata": {},
   "outputs": [],
   "source": [
    "def make_trie(words):\n",
    "    root = {}\n",
    "    for word in words:\n",
    "        node = root\n",
    "        for letter in word:\n",
    "            node = node.setdefault(letter, {})\n",
    "        node[None] = None    # signify that node is a word\n",
    "    return root"
   ]
  },
  {
   "cell_type": "code",
   "execution_count": 11,
   "metadata": {},
   "outputs": [
    {
     "name": "stdout",
     "output_type": "stream",
     "text": [
      "{\n",
      "  \"a\": {\n",
      "    \"p\": {\n",
      "      \"p\": {\n",
      "        \"l\": {\n",
      "          \"y\": {\n",
      "            \"null\": null\n",
      "          },\n",
      "          \"e\": {\n",
      "            \"null\": null\n",
      "          }\n",
      "        }\n",
      "      },\n",
      "      \"t\": {\n",
      "        \"null\": null\n",
      "      }\n",
      "    }\n",
      "  }\n",
      "}\n"
     ]
    }
   ],
   "source": [
    "import json\n",
    "\n",
    "\n",
    "t = make_trie(['apply', 'apple', 'apt'])\n",
    "print(json.dumps(t, indent=2))"
   ]
  },
  {
   "cell_type": "markdown",
   "metadata": {},
   "source": [
    "Now let's write that recursive function that generates unique words on a given board, of at least some length."
   ]
  },
  {
   "cell_type": "code",
   "execution_count": 12,
   "metadata": {},
   "outputs": [],
   "source": [
    "from itertools import product\n",
    "\n",
    "\n",
    "def get_words(board, trie, min_len=3):\n",
    "    \"\"\"Yield possible words from a given board and trie.\"\"\"\n",
    "    offsets = [(-1, -1), (-1, 0), (-1, 1),\n",
    "               (0,  -1),          (0,  1),\n",
    "               (1,  -1), (1,  0), (1,  1)]\n",
    "    \n",
    "    def recur(i, j, path, seen, node):\n",
    "        if (i, j) in seen:    # path can't cross itself\n",
    "            return\n",
    "        if not (0 <= i < 4) or not (0 <= j < 4):    # path can't wrap around board\n",
    "            return\n",
    "        letter = board[i][j]\n",
    "        path += letter\n",
    "        seen.add((i, j))\n",
    "        if letter in node:    # path is a prefix\n",
    "            if None in node[letter]:    # path is a word\n",
    "                yield path\n",
    "            for i_off, j_off in offsets:    # traverse neighbors even if path is word\n",
    "                yield from recur(i + i_off, j + j_off, path, seen.copy(), node[letter])\n",
    "    \n",
    "    seen = set()\n",
    "    for i, j in product(range(4), range(4)):\n",
    "        for word in recur(i, j, '', set(), trie):\n",
    "            if len(word) >= min_len and word not in seen:\n",
    "                yield word\n",
    "                seen.add(word)"
   ]
  },
  {
   "cell_type": "markdown",
   "metadata": {},
   "source": [
    "Finding words necessitates a dictionary, and a _Scrabble_-esque dictionary seems fitting. Conveniently, the _Words With Friends_ game's dictionary is [publicly available](http://gaming.stackexchange.com/a/7163): the Enhanced North American Benchmark Lexicon."
   ]
  },
  {
   "cell_type": "code",
   "execution_count": 13,
   "metadata": {},
   "outputs": [],
   "source": [
    "with open('enable1.txt') as f:\n",
    "    trie = make_trie(word.strip() for word in f)"
   ]
  },
  {
   "cell_type": "markdown",
   "metadata": {},
   "source": [
    "## Estimating Word Probabilities"
   ]
  },
  {
   "cell_type": "markdown",
   "metadata": {},
   "source": [
    "To estimate word frequencies, we'll gather relative frequencies from random boards. But how many boards to sample from?\n",
    "\n",
    "We can view the appearance of a specific word as a Bernoulli random variable with some unknown probability. We'd like to sample enough boards so that the resultant $k$ most common words is are in fact the most common, and in order.\n",
    "\n",
    "In the land of probability bounds, where Markov and Chebyshev wander wide, one called Hoeffding's inequality is particularly powerful when it comes to Bernoulli variables. It can tell us how tight an $\\epsilon$-sized confidence interval should be with $n$ samples.\n",
    "\n",
    "Specifically, let $X_1, \\ldots, X_n \\sim \\mathrm{Bernoulli}(p)$. Then, for any $\\epsilon > 0$,\n",
    "\n",
    "$$P(\\left| \\overline{X_n} - p \\right| > \\epsilon) \\le 2 e^{-2n\\epsilon^2}$$\n",
    "\n",
    "So, to be $\\alpha$ confident that some variable is within error $\\epsilon$ of it's true value, we'll need\n",
    "\n",
    "$$n \\ge \\frac{1}{2\\epsilon^2}\\log{\\frac{2}{\\alpha}}$$\n",
    "\n",
    "samples.\n",
    "\n",
    "This applies to any Bernoullie variable, and each random Boggle board gives a Bernoulli value to every word (it appears or it doesn't). So, we can just sample a bunch of boards, which will probably produce a tight enough bound.\n",
    "\n",
    "However, we'll have to be very diligent about choosing our confidence $\\alpha$, and tightness $\\epsilon$. We can't guarantee that the top $k$ words are in fact the top $k$, and in order, but it does ossify those top probabilities with a diligently chosen $\\epsilon$.\n",
    "\n",
    "Experimenting with 1000 boards showed that top 10 words' probabilities overlap, suggesting that we need $\\epsilon < 0.001$ to be, say, $\\alpha = 0.1$ confident that the ordering is correct. Unfortunately, this would lead to $n \\ge 1.5 \\times 10^6$ boards, which is too many hours of computation. Instead we'll shoot for just having the same set of top words, rather than correct ranking. The difference in probability between the empirical most common word and the 20th (we choose $k$ arbitrarily) was about 0.01, yielding $n \\ge 14979$ boards, which is more manageable."
   ]
  },
  {
   "cell_type": "code",
   "execution_count": 20,
   "metadata": {},
   "outputs": [
    {
     "name": "stdout",
     "output_type": "stream",
     "text": [
      "  Rank  Word      Frequency\n",
      "------  ------  -----------\n",
      "     1  teen         0.0642\n",
      "     2  tees         0.0639\n",
      "     3  toes         0.0575\n",
      "     4  note         0.0575\n",
      "     5  teat         0.0573\n",
      "     6  tent         0.0565\n",
      "     7  tone         0.0565\n",
      "     8  toea         0.0558\n",
      "     9  neat         0.0525\n",
      "    10  test         0.0524\n",
      "    11  nets         0.0517\n",
      "    12  sent         0.0511\n",
      "    13  nest         0.0510\n",
      "    14  teas         0.0508\n",
      "    15  thee         0.0505\n",
      "    16  seta         0.0502\n",
      "    17  ates         0.0502\n",
      "    18  tens         0.0501\n",
      "    19  ante         0.0501\n",
      "    20  etna         0.0501\n",
      "CPU times: user 52.8 s, sys: 562 ms, total: 53.4 s\n",
      "Wall time: 1min 13s\n"
     ]
    }
   ],
   "source": [
    "%%time\n",
    "from collections import Counter\n",
    "from tabulate import tabulate\n",
    "import multiprocessing as mp\n",
    "\n",
    "NBOARDS = 14979\n",
    "\n",
    "\n",
    "def update_counts(_):\n",
    "    board = rand_board()\n",
    "    return Counter(get_words(board, trie, min_len=4))\n",
    "\n",
    "\n",
    "counts = Counter()\n",
    "nprocs = mp.cpu_count()\n",
    "with mp.Pool(processes=nprocs) as pool:\n",
    "    it = pool.imap_unordered(update_counts, range(NBOARDS),\n",
    "                             chunksize=500)\n",
    "    for sampled_counts in it:\n",
    "        counts += sampled_counts\n",
    "\n",
    "\n",
    "table = [(i, word, count/NBOARDS) for i, (word, count)\n",
    "         in enumerate(counts.most_common(20), start=1)]\n",
    "print(tabulate(table, headers=['Rank', 'Word', 'Frequency'], floatfmt='.4f'))"
   ]
  },
  {
   "cell_type": "markdown",
   "metadata": {},
   "source": [
    "## Common and Ordinary Word Ranking"
   ]
  },
  {
   "cell_type": "markdown",
   "metadata": {},
   "source": [
    "The most common list is interesting, but some of the words are so ordinary that other players will probably know them and also find them. To improve one's chances of winning Boggle, it would be nice to have a ranking that takes into account both a word's probability of occurence, *and ordinariness*.\n",
    "\n",
    "This is reminiscent [tf-idf weighting](http://nlp.stanford.edu/IR-book/html/htmledition/tf-idf-weighting-1.html)! Our current list gives us the *term frequency*, so all that remains is to find each term's *inverse document frequency*. Here, we assume that usage corresponds to how likely it is for a word to be known.\n",
    "\n",
    "We'll use word usage counts from [American National Corpus](http://www.anc.org/data/anc-second-release/frequency-data/). However, some of the words from Boggle might have various endings (e.g. \"apple\", \"apples\"), and those should add in frequency for \"ordinariness.\" So we'll stem the words for lookup."
   ]
  },
  {
   "cell_type": "code",
   "execution_count": 21,
   "metadata": {},
   "outputs": [],
   "source": [
    "from nltk.stem import SnowballStemmer\n",
    "from collections import defaultdict\n",
    "\n",
    "\n",
    "snow = SnowballStemmer('english')\n",
    "freqs = defaultdict(int)\n",
    "min_freq = 1    # smallest frequency found, for use with Boggle words not in list\n",
    "\n",
    "with open('ANC-token-count.txt', encoding='ISO-8859-1') as f:    # there's weird characters\n",
    "    for word, *_, freq in map(str.split, f):\n",
    "        if word == 'Total':    # there was a total count of words at the end\n",
    "            continue\n",
    "        word, freq = snow.stem(word), float(freq)\n",
    "        freqs[word] += freq\n",
    "        min_freq = freqs[word]"
   ]
  },
  {
   "cell_type": "markdown",
   "metadata": {},
   "source": [
    "Now, we just need to calculate the scores of the words output a new sorted list."
   ]
  },
  {
   "cell_type": "code",
   "execution_count": 22,
   "metadata": {},
   "outputs": [
    {
     "name": "stdout",
     "output_type": "stream",
     "text": [
      "  Rank  Word      Score\n",
      "------  ------  -------\n",
      "     1  toea    14157\n",
      "     2  seta    12736.3\n",
      "     3  nett    12668.6\n",
      "     4  teat    12641.7\n",
      "     5  stet    12228.8\n",
      "     6  tret    11721.4\n",
      "     7  rete    11719.2\n",
      "     8  sett    11653.8\n",
      "     9  tees    11617.2\n",
      "    10  etna    11493.7\n",
      "    11  teel    11078.7\n",
      "    12  hest    10994.1\n",
      "    13  teth    10981.5\n",
      "    14  haet    10841.9\n",
      "    15  nite    10547.4\n",
      "    16  hent    10419\n",
      "    17  eath    10419\n",
      "    18  tine    10407.1\n",
      "    19  leet    10359.1\n",
      "    20  sate    10339.6\n"
     ]
    }
   ],
   "source": [
    "from math import log\n",
    "\n",
    "\n",
    "tfs, idfs = [], []\n",
    "for word, count in counts.items():\n",
    "    word = snow.stem(word)\n",
    "    tfs.append(1 + count)\n",
    "    idfs.append(log(1 + 1/freqs.get(word, min_freq)))\n",
    "\n",
    "scores = sorted([(tf*idf, word) for tf, idf, word in zip(tfs, idfs, counts.keys())], reverse=True)\n",
    "table = [(i, word, score) for i, (score, word) in enumerate(scores[:20], start=1)]\n",
    "print(tabulate(table, headers=['Rank', 'Word', 'Score']))"
   ]
  },
  {
   "cell_type": "markdown",
   "metadata": {
    "collapsed": true
   },
   "source": [
    "# Epilogue\n",
    "\n",
    "After completing this task, several sub-topics came to mind. We address some of those here. Unlike in previous sections, we will be lax proving the correct number of boards."
   ]
  },
  {
   "cell_type": "markdown",
   "metadata": {},
   "source": [
    "## Number of Possible Words Distribution"
   ]
  },
  {
   "cell_type": "markdown",
   "metadata": {},
   "source": [
    "It would be interesting to see the minimum, maximum, mean, etc. of the number of words found over all boards. For the sake of brevity, rather than fitting the distribution and devising estimators, we'll just plot a simple histogram. And I choose an arbitrarily large number of boards to sample from."
   ]
  },
  {
   "cell_type": "code",
   "execution_count": 23,
   "metadata": {},
   "outputs": [
    {
     "data": {
      "image/png": "[encoded data removed]",
      "text/plain": [
       "<matplotlib.figure.Figure at 0x10f9827b8>"
      ]
     },
     "metadata": {},
     "output_type": "display_data"
    }
   ],
   "source": [
    "import matplotlib.pyplot as plt\n",
    "import seaborn\n",
    "\n",
    "\n",
    "%matplotlib inline\n",
    "seaborn.set_context('notebook')\n",
    "seaborn.set_style('whitegrid')\n",
    "\n",
    "num_words = []\n",
    "for _ in range(2000):\n",
    "    num_words.append(len(list(get_words(rand_board(), trie))))\n",
    "    \n",
    "plt.hist(num_words, bins=40, normed=True)\n",
    "plt.title('Number of Possible Words Distribution')\n",
    "plt.xlabel('Number of words')\n",
    "plt.ylabel('Proportion')\n",
    "plt.show()"
   ]
  },
  {
   "cell_type": "markdown",
   "metadata": {},
   "source": [
    "## Best Proportion of Vowels"
   ]
  },
  {
   "cell_type": "markdown",
   "metadata": {},
   "source": [
    "A friend gave the comment that the \"best\" Boggle boards are comprised of 40% vowels. Best, here, was intended to mean highest number of word solutions. Now to experimentally prove this claim."
   ]
  },
  {
   "cell_type": "code",
   "execution_count": 24,
   "metadata": {},
   "outputs": [],
   "source": [
    "from itertools import chain\n",
    "from collections import defaultdict\n",
    "\n",
    "\n",
    "NBOARDS = 1000\n",
    "data = defaultdict(int)    # store how many words found per vowel, summed over boards\n",
    "vowels = set('aeiou')    # for simplicity we assume that these are the only vowels\n",
    "\n",
    "for _ in range(NBOARDS):\n",
    "    num_vowels = 0\n",
    "    board = rand_board()\n",
    "    for letter in chain(*board):\n",
    "        if letter in vowels:\n",
    "            num_vowels += 1\n",
    "    num_words = len(list(get_words(board, trie, min_len=4)))\n",
    "    data[num_vowels] += num_words"
   ]
  },
  {
   "cell_type": "markdown",
   "metadata": {},
   "source": [
    "Now to plot the mean number of found words per number of vowels:"
   ]
  },
  {
   "cell_type": "code",
   "execution_count": 28,
   "metadata": {},
   "outputs": [
    {
     "data": {
      "image/png": "[encoded data removed]",
      "text/plain": [
       "<matplotlib.figure.Figure at 0x110b88b70>"
      ]
     },
     "metadata": {},
     "output_type": "display_data"
    }
   ],
   "source": [
    "x, y = zip(*sorted(data.items()))\n",
    "\n",
    "plt.plot(x, [t/NBOARDS for t in y], 'bo:')\n",
    "plt.title(r'Number of Words in Board per Vowel')\n",
    "plt.xlabel('Number of vowels')\n",
    "plt.ylabel('Total number of found words')\n",
    "plt.show()"
   ]
  },
  {
   "cell_type": "code",
   "execution_count": 26,
   "metadata": {},
   "outputs": [
    {
     "data": {
      "text/plain": [
       "0.375"
      ]
     },
     "execution_count": 26,
     "metadata": {},
     "output_type": "execute_result"
    }
   ],
   "source": [
    "6/16"
   ]
  },
  {
   "cell_type": "markdown",
   "metadata": {},
   "source": [
    "Would you look at that, 40% was pretty spot on for an off the cuff comment."
   ]
  },
  {
   "cell_type": "markdown",
   "metadata": {},
   "source": [
    "## Super Big Boggle"
   ]
  },
  {
   "cell_type": "code",
   "execution_count": 27,
   "metadata": {
    "collapsed": true
   },
   "outputs": [],
   "source": [
    "big_cubes = [\n",
    "    ('s', 's', 's', 'u', 'n', 'e'),\n",
    "    ('qu', 'j', 'k', 'z', 'w', 'x'),\n",
    "    ('a', 'a', 'a', 's', 'f', 'r'),\n",
    "    ('h', 'o', 'r', 'd', 'l', 'n'),\n",
    "    ('g', 'o', 'r', 'w', 'r', 'v'),\n",
    "    ('f', 's', 'i', 'r', 'a', 'a'),\n",
    "    ('an', 'in', 'er', 'he', 'th', 'qu'),\n",
    "    ('a', 'e', 'a', 'e', 'e', 'e'),\n",
    "    ('l', 'i', 'e', 'a', 'n', 'm'),\n",
    "    ('g', 'f', 'n', 'u', 'y', 'c'),\n",
    "    ('a', 'e', 'm', 'e', 'e', 'e'),\n",
    "    ('h', 'd', 't', 'n', 'o', 'd'),\n",
    "    ('h', 's', 'e', 'r', 'i', 'l'),\n",
    "    ('n', 'u', 'e', 'o', 'i', 'a'),\n",
    "    ('o', 'n', 'd', 'w', 'h', 'h'),\n",
    "    ('a', 'o', 'i', 'e', 'b', 'd'),\n",
    "    ('l', 'h', 'h', 'r', 'd', 'o'),\n",
    "    ('g', 'n', 'a', 'm', 'n', 'e'),\n",
    "    ('s', 't', 'r', 'h', 'p', 'o'),\n",
    "    ('n', 'd', 'e', 'a', 'n', 'n'),\n",
    "    ('o', 'o', 'a', 'e', 'a', 'e'),\n",
    "    ('t', 'm', 't', 'e', 'o', 't'),\n",
    "    ('t', 'i', 's', 'r', 'v', 'h'),\n",
    "    ('a', 'e', 'm', 'g', 'u', 'e'),\n",
    "    ('t', 'i', 'l', 's', 'p', 'e'),\n",
    "    ('n', 'o', 'w', 'o', 'u', 't'),\n",
    "    ('y', 'r', 'y', 's', 'i', 'p'),\n",
    "    ('e', 's', 'p', 't', 'i', 'c'),\n",
    "    ('c', 't', 'n', 's', 'e', 'c'),\n",
    "    ('y', 'r', 'f', 's', 'i', 'a'),\n",
    "    ('l', 'c', 'd', 'd', 'n', 'n'),\n",
    "    ('t', 'i', 't', 'c', 't', 'e', 'i'),\n",
    "    ('e', 't', 'i', 'l', 'i', 's'),\n",
    "    ('j', 'b', 'b', 'z', 'x', 'k'),\n",
    "    ('o', 'o', 'o', 't', 'u', 't'),\n",
    "    ('o', 'i', None, None, 'e', None)\n",
    "]"
   ]
  }
 ],
 "metadata": {
  "kernelspec": {
   "display_name": "Python 3",
   "language": "python",
   "name": "python3"
  },
  "language_info": {
   "codemirror_mode": {
    "name": "ipython",
    "version": 3
   },
   "file_extension": ".py",
   "mimetype": "text/x-python",
   "name": "python",
   "nbconvert_exporter": "python",
   "pygments_lexer": "ipython3",
   "version": "3.6.2"
  }
 },
 "nbformat": 4,
 "nbformat_minor": 1
}
