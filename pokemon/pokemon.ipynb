{
 "cells": [
  {
   "cell_type": "markdown",
   "metadata": {},
   "source": [
    "![Pokémon!](https://31.media.tumblr.com/5830f6d55c1ff0794814cb333ea5e815/tumblr_inline_n1onkgrQq71s90mb3.png)\n",
    "\n",
    "---"
   ]
  },
  {
   "cell_type": "code",
   "execution_count": 1,
   "metadata": {
    "collapsed": false
   },
   "outputs": [],
   "source": [
    "from collections import ChainMap, Counter, Iterable, defaultdict\n",
    "from itertools import chain, combinations\n",
    "from math import isnan\n",
    "from random import sample, seed\n",
    "import numpy as np\n",
    "import pandas as pd\n",
    "import seaborn as sns\n",
    "\n",
    "from pokemon_types import gen6\n",
    "\n",
    "%matplotlib inline\n",
    "sns.set(style='ticks')"
   ]
  },
  {
   "cell_type": "markdown",
   "metadata": {},
   "source": [
    "---"
   ]
  },
  {
   "cell_type": "markdown",
   "metadata": {},
   "source": [
    "How many types are there, and what are they?"
   ]
  },
  {
   "cell_type": "code",
   "execution_count": 2,
   "metadata": {
    "collapsed": false
   },
   "outputs": [
    {
     "name": "stdout",
     "output_type": "stream",
     "text": [
      "['bug', 'dark', 'dragon', 'electric', 'fairy', 'fighting', 'fire', 'flying', 'ghost', 'grass', 'ground', 'ice', 'normal', 'poison', 'psychic', 'rock', 'steel', 'water']\n"
     ]
    },
    {
     "data": {
      "text/plain": [
       "18"
      ]
     },
     "execution_count": 2,
     "metadata": {},
     "output_type": "execute_result"
    }
   ],
   "source": [
    "print(sorted(gen6))\n",
    "len(gen6)"
   ]
  },
  {
   "cell_type": "code",
   "execution_count": 100,
   "metadata": {
    "collapsed": true
   },
   "outputs": [],
   "source": [
    "for t1 in gen6:\n",
    "    for t2 in gen6:\n",
    "        if t2 not in gen6[t1]:\n",
    "            gen6[t1][t2] = 1.0"
   ]
  },
  {
   "cell_type": "code",
   "execution_count": 103,
   "metadata": {
    "collapsed": false
   },
   "outputs": [
    {
     "data": {
      "text/plain": [
       "[18, 18, 18, 18, 18, 18, 18, 18, 18, 18, 18, 18, 18, 18, 18, 18, 18, 18]"
      ]
     },
     "execution_count": 103,
     "metadata": {},
     "output_type": "execute_result"
    }
   ],
   "source": [
    "[len(v) for v in gen6.values()]"
   ]
  },
  {
   "cell_type": "code",
   "execution_count": 104,
   "metadata": {
    "collapsed": false
   },
   "outputs": [],
   "source": [
    "from functools import lru_cache\n",
    "\n",
    "@lru_cache(maxsize=None)\n",
    "def effectiveness(type_, eff):\n",
    "    return {k for k, v in gen6[type_].items() if v == eff}"
   ]
  },
  {
   "cell_type": "code",
   "execution_count": 105,
   "metadata": {
    "collapsed": false
   },
   "outputs": [
    {
     "name": "stdout",
     "output_type": "stream",
     "text": [
      "{'dark', 'grass', 'psychic'}\n",
      "{'steel', 'ghost', 'flying', 'poison', 'fairy', 'fighting', 'fire'}\n"
     ]
    }
   ],
   "source": [
    "print(effectiveness('bug', 2.0))\n",
    "print(effectiveness('bug', 0.5))"
   ]
  },
  {
   "cell_type": "markdown",
   "metadata": {},
   "source": [
    "What's the minimum sized subset of types that will be super effective to all other types?"
   ]
  },
  {
   "cell_type": "code",
   "execution_count": 106,
   "metadata": {
    "collapsed": true
   },
   "outputs": [],
   "source": [
    "from itertools import chain, combinations\n",
    "\n",
    "def touches(types, eff):\n",
    "    return set.union(*(effectiveness(t, eff) for t in types))\n",
    "\n",
    "def cover(k):\n",
    "    all_types = set(gen6)\n",
    "    sols = []\n",
    "    for combo in combinations(all_types, k):\n",
    "        if touches(combo, 2.0) == all_types:\n",
    "            sols.append(combo)\n",
    "    return sols"
   ]
  },
  {
   "cell_type": "code",
   "execution_count": 107,
   "metadata": {
    "collapsed": false
   },
   "outputs": [
    {
     "name": "stdout",
     "output_type": "stream",
     "text": [
      "[]\n"
     ]
    },
    {
     "data": {
      "text/plain": [
       "[['dark', 'electric', 'fighting', 'flying', 'ground', 'ice', 'poison'],\n",
       " ['dark', 'electric', 'fighting', 'flying', 'ground', 'ice', 'steel'],\n",
       " ['dark', 'fairy', 'fighting', 'grass', 'ground', 'poison', 'rock'],\n",
       " ['dark', 'fighting', 'flying', 'grass', 'ground', 'ice', 'poison'],\n",
       " ['dark', 'fighting', 'flying', 'grass', 'ground', 'ice', 'steel'],\n",
       " ['electric', 'fighting', 'flying', 'ghost', 'ground', 'ice', 'poison'],\n",
       " ['electric', 'fighting', 'flying', 'ghost', 'ground', 'ice', 'steel'],\n",
       " ['fairy', 'fighting', 'ghost', 'grass', 'ground', 'poison', 'rock'],\n",
       " ['fighting', 'flying', 'ghost', 'grass', 'ground', 'ice', 'poison'],\n",
       " ['fighting', 'flying', 'ghost', 'grass', 'ground', 'ice', 'steel']]"
      ]
     },
     "execution_count": 107,
     "metadata": {},
     "output_type": "execute_result"
    }
   ],
   "source": [
    "print(cover(6))\n",
    "sorted(sorted(types) for types in cover(7))"
   ]
  },
  {
   "cell_type": "code",
   "execution_count": 108,
   "metadata": {
    "collapsed": false
   },
   "outputs": [
    {
     "data": {
      "text/plain": [
       "[('ground', 10),\n",
       " ('fighting', 10),\n",
       " ('ice', 8),\n",
       " ('flying', 8),\n",
       " ('poison', 6),\n",
       " ('grass', 6),\n",
       " ('ghost', 5),\n",
       " ('dark', 5),\n",
       " ('electric', 4),\n",
       " ('steel', 4),\n",
       " ('fairy', 2),\n",
       " ('rock', 2)]"
      ]
     },
     "execution_count": 108,
     "metadata": {},
     "output_type": "execute_result"
    }
   ],
   "source": [
    "from itertools import chain\n",
    "from collections import Counter\n",
    "\n",
    "Counter(chain.from_iterable(cover(7))).most_common()"
   ]
  },
  {
   "cell_type": "markdown",
   "metadata": {},
   "source": [
    "That's cool, because in standard Pokémon games, a team can consist of up to 6 members.\n",
    "\n",
    "We can go further by asking for a team that also has minimum not very effective at attacking. Let's arbitrarily define a score."
   ]
  },
  {
   "cell_type": "code",
   "execution_count": 109,
   "metadata": {
    "collapsed": false
   },
   "outputs": [],
   "source": [
    "def score(types):\n",
    "    a = touches(types, 2.0)\n",
    "    b = touches(types, 0.5)\n",
    "    c = touches(types, 0.0)\n",
    "    return 2*len(a) - len(b) - 2*len(c)"
   ]
  },
  {
   "cell_type": "code",
   "execution_count": 110,
   "metadata": {
    "collapsed": false
   },
   "outputs": [
    {
     "data": {
      "text/plain": [
       "[(18, ('water', 'electric', 'ground', 'flying', 'ghost', 'steel', 'fairy'), 7),\n",
       " (18, ('water', 'electric', 'ground', 'flying', 'dark', 'steel', 'fairy'), 7),\n",
       " (18, ('ice', 'ground', 'rock', 'dark', 'steel', 'fairy'), 6),\n",
       " (18, ('ice', 'ground', 'flying', 'ghost', 'steel', 'fairy'), 6),\n",
       " (18, ('ice', 'ground', 'flying', 'dark', 'steel', 'fairy'), 6),\n",
       " (18, ('grass', 'ice', 'ground', 'rock', 'dark', 'steel', 'fairy'), 7),\n",
       " (18, ('grass', 'ice', 'ground', 'flying', 'ghost', 'steel', 'fairy'), 7),\n",
       " (18, ('grass', 'ice', 'ground', 'flying', 'dark', 'steel', 'fairy'), 7),\n",
       " (18, ('grass', 'ground', 'flying', 'rock', 'dark', 'steel', 'fairy'), 7),\n",
       " (18, ('grass', 'ground', 'bug', 'rock', 'dark', 'steel', 'fairy'), 7)]"
      ]
     },
     "execution_count": 110,
     "metadata": {},
     "output_type": "execute_result"
    }
   ],
   "source": [
    "combos = ((score(combo), combo, len(combo)) for combo\n",
    "           in chain.from_iterable(combinations(gen6, k) for k in range(1, 8)))\n",
    "sorted(combos, reverse=True)[:10]"
   ]
  },
  {
   "cell_type": "code",
   "execution_count": 111,
   "metadata": {
    "collapsed": false
   },
   "outputs": [
    {
     "data": {
      "text/html": [
       "<div>\n",
       "<table border=\"1\" class=\"dataframe\">\n",
       "  <thead>\n",
       "    <tr style=\"text-align: right;\">\n",
       "      <th></th>\n",
       "      <th>#</th>\n",
       "      <th>Name</th>\n",
       "      <th>Type 1</th>\n",
       "      <th>Type 2</th>\n",
       "      <th>Total</th>\n",
       "      <th>HP</th>\n",
       "      <th>Attack</th>\n",
       "      <th>Defense</th>\n",
       "      <th>Sp. Atk</th>\n",
       "      <th>Sp. Def</th>\n",
       "      <th>Speed</th>\n",
       "      <th>Generation</th>\n",
       "      <th>Legendary</th>\n",
       "    </tr>\n",
       "  </thead>\n",
       "  <tbody>\n",
       "    <tr>\n",
       "      <th>129</th>\n",
       "      <td>120</td>\n",
       "      <td>Staryu</td>\n",
       "      <td>Water</td>\n",
       "      <td>NaN</td>\n",
       "      <td>340</td>\n",
       "      <td>30</td>\n",
       "      <td>45</td>\n",
       "      <td>55</td>\n",
       "      <td>70</td>\n",
       "      <td>55</td>\n",
       "      <td>85</td>\n",
       "      <td>1</td>\n",
       "      <td>False</td>\n",
       "    </tr>\n",
       "    <tr>\n",
       "      <th>220</th>\n",
       "      <td>205</td>\n",
       "      <td>Forretress</td>\n",
       "      <td>Bug</td>\n",
       "      <td>Steel</td>\n",
       "      <td>465</td>\n",
       "      <td>75</td>\n",
       "      <td>90</td>\n",
       "      <td>140</td>\n",
       "      <td>60</td>\n",
       "      <td>60</td>\n",
       "      <td>40</td>\n",
       "      <td>2</td>\n",
       "      <td>False</td>\n",
       "    </tr>\n",
       "    <tr>\n",
       "      <th>782</th>\n",
       "      <td>710</td>\n",
       "      <td>PumpkabooLarge Size</td>\n",
       "      <td>Ghost</td>\n",
       "      <td>Grass</td>\n",
       "      <td>335</td>\n",
       "      <td>54</td>\n",
       "      <td>66</td>\n",
       "      <td>70</td>\n",
       "      <td>44</td>\n",
       "      <td>55</td>\n",
       "      <td>46</td>\n",
       "      <td>6</td>\n",
       "      <td>False</td>\n",
       "    </tr>\n",
       "    <tr>\n",
       "      <th>739</th>\n",
       "      <td>671</td>\n",
       "      <td>Florges</td>\n",
       "      <td>Fairy</td>\n",
       "      <td>NaN</td>\n",
       "      <td>552</td>\n",
       "      <td>78</td>\n",
       "      <td>65</td>\n",
       "      <td>68</td>\n",
       "      <td>112</td>\n",
       "      <td>154</td>\n",
       "      <td>75</td>\n",
       "      <td>6</td>\n",
       "      <td>False</td>\n",
       "    </tr>\n",
       "    <tr>\n",
       "      <th>294</th>\n",
       "      <td>271</td>\n",
       "      <td>Lombre</td>\n",
       "      <td>Water</td>\n",
       "      <td>Grass</td>\n",
       "      <td>340</td>\n",
       "      <td>60</td>\n",
       "      <td>50</td>\n",
       "      <td>50</td>\n",
       "      <td>60</td>\n",
       "      <td>70</td>\n",
       "      <td>50</td>\n",
       "      <td>3</td>\n",
       "      <td>False</td>\n",
       "    </tr>\n",
       "    <tr>\n",
       "      <th>202</th>\n",
       "      <td>187</td>\n",
       "      <td>Hoppip</td>\n",
       "      <td>Grass</td>\n",
       "      <td>Flying</td>\n",
       "      <td>250</td>\n",
       "      <td>35</td>\n",
       "      <td>35</td>\n",
       "      <td>40</td>\n",
       "      <td>35</td>\n",
       "      <td>55</td>\n",
       "      <td>50</td>\n",
       "      <td>2</td>\n",
       "      <td>False</td>\n",
       "    </tr>\n",
       "  </tbody>\n",
       "</table>\n",
       "</div>"
      ],
      "text/plain": [
       "       #                 Name Type 1  Type 2  Total  HP  Attack  Defense  \\\n",
       "129  120               Staryu  Water     NaN    340  30      45       55   \n",
       "220  205           Forretress    Bug   Steel    465  75      90      140   \n",
       "782  710  PumpkabooLarge Size  Ghost   Grass    335  54      66       70   \n",
       "739  671              Florges  Fairy     NaN    552  78      65       68   \n",
       "294  271               Lombre  Water   Grass    340  60      50       50   \n",
       "202  187               Hoppip  Grass  Flying    250  35      35       40   \n",
       "\n",
       "     Sp. Atk  Sp. Def  Speed  Generation Legendary  \n",
       "129       70       55     85           1     False  \n",
       "220       60       60     40           2     False  \n",
       "782       44       55     46           6     False  \n",
       "739      112      154     75           6     False  \n",
       "294       60       70     50           3     False  \n",
       "202       35       55     50           2     False  "
      ]
     },
     "execution_count": 111,
     "metadata": {},
     "output_type": "execute_result"
    }
   ],
   "source": [
    "pokemon_df = pd.read_csv('Pokemon.csv')\n",
    "pokemon_df.sample(6)"
   ]
  },
  {
   "cell_type": "code",
   "execution_count": 112,
   "metadata": {
    "collapsed": false
   },
   "outputs": [
    {
     "data": {
      "text/plain": [
       "True"
      ]
     },
     "execution_count": 112,
     "metadata": {},
     "output_type": "execute_result"
    }
   ],
   "source": [
    "pokemon_df7 = pd.read_csv('pokemon_gen7.csv')\n",
    "'Decidueye' in pokemon_df7['species'].values.flatten()"
   ]
  },
  {
   "cell_type": "code",
   "execution_count": 113,
   "metadata": {
    "collapsed": false
   },
   "outputs": [
    {
     "data": {
      "text/plain": [
       "Index(['id', 'ndex', 'species', 'forme', 'type1', 'type2', 'ability1',\n",
       "       'ability2', 'abilityH', 'hp', 'attack', 'defense', 'spattack',\n",
       "       'spdefense', 'speed', 'total', 'weight', 'height', 'dex1', 'dex2',\n",
       "       'class', 'percent-male', 'percent-female', 'pre-evolution',\n",
       "       'egg-group1', 'egg-group2'],\n",
       "      dtype='object')"
      ]
     },
     "execution_count": 113,
     "metadata": {},
     "output_type": "execute_result"
    }
   ],
   "source": [
    "pokemon_df7.columns"
   ]
  },
  {
   "cell_type": "markdown",
   "metadata": {},
   "source": [
    "Let's modifiy gen6 to have keys with type combinations, where the effectiveness is the multiplication."
   ]
  },
  {
   "cell_type": "code",
   "execution_count": 171,
   "metadata": {
    "collapsed": false
   },
   "outputs": [],
   "source": [
    "gen6_pair = defaultdict(lambda: {})\n",
    "for attack_type in gen6:\n",
    "    for type_defend in gen6:\n",
    "        eff = gen6[attack_type][type_defend]\n",
    "        gen6_pair[attack_type][frozenset({type_defend})] = eff\n",
    "    for type_defend1, type_defend2 in combinations(gen6, 2):\n",
    "        eff1 = gen6[attack_type].get(type_defend1, 1.0)\n",
    "        eff2 = gen6[attack_type].get(type_defend2, 1.0)\n",
    "        eff_combine = eff1 * eff2\n",
    "        gen6_pair[attack_type][frozenset({type_defend1, type_defend2})] = eff_combine\n",
    "                \n",
    "#         eff1 = gen6[type1].get(type_other, 1.0)\n",
    "#         try:\n",
    "#             eff2 = gen6[type2].get(type_other, 1.0)\n",
    "#         except:\n",
    "#             print(type2, gen6[type2])\n",
    "#         eff = eff1 * eff2\n",
    "#         if eff != 1.0:\n",
    "#             key = frozenset({type1, type2})\n",
    "#             gen6_pair[key][type_other] = eff"
   ]
  },
  {
   "cell_type": "code",
   "execution_count": 174,
   "metadata": {
    "collapsed": false
   },
   "outputs": [],
   "source": [
    "pokemon_types = defaultdict(set)\n",
    "for _, row in pokemon_df7.iterrows():\n",
    "    type_ = {row['type1'].lower()}\n",
    "    if isinstance(row['type2'], str):\n",
    "        type_.add(row['type2'].lower())\n",
    "    pokemon_types[frozenset(type_)].add(row['species'])"
   ]
  },
  {
   "cell_type": "code",
   "execution_count": 175,
   "metadata": {
    "collapsed": false
   },
   "outputs": [
    {
     "data": {
      "text/plain": [
       "{'Decidueye', 'Dhelmise', 'Gourgeist', 'Phantump', 'Pumpkaboo', 'Trevenant'}"
      ]
     },
     "execution_count": 175,
     "metadata": {},
     "output_type": "execute_result"
    }
   ],
   "source": [
    "pokemon_types[frozenset({'grass', 'ghost'})]"
   ]
  },
  {
   "cell_type": "code",
   "execution_count": 176,
   "metadata": {
    "collapsed": false
   },
   "outputs": [
    {
     "data": {
      "text/plain": [
       "True"
      ]
     },
     "execution_count": 176,
     "metadata": {},
     "output_type": "execute_result"
    }
   ],
   "source": [
    "'Litten' in list(pokemon_df7[['species']].values.flatten())"
   ]
  },
  {
   "cell_type": "code",
   "execution_count": 177,
   "metadata": {
    "collapsed": false
   },
   "outputs": [
    {
     "data": {
      "text/plain": [
       "[frozenset({'fairy', 'psychic'}),\n",
       " frozenset({'bug', 'poison'}),\n",
       " frozenset({'fighting', 'psychic'}),\n",
       " frozenset({'dark', 'grass'})]"
      ]
     },
     "execution_count": 177,
     "metadata": {},
     "output_type": "execute_result"
    }
   ],
   "source": [
    "seed(42)\n",
    "\n",
    "sample(pokemon_types.keys(), 4)"
   ]
  },
  {
   "cell_type": "markdown",
   "metadata": {},
   "source": [
    "[1] Is there an attack move of same type bonus? Yes, 1.5x damage (STAB). http://bulbapedia.bulbagarden.net/wiki/Same-type_attack_bonus\n",
    "\n",
    "[2] Are there Pokémon moves of multiple types? No, doing so would incentivize using just those Pokémon which learn moves that give double STAB. http://www.serebiiforums.com/showthread.php?322627-Multi-type-moves&s=d6e2e60733d82b53245a846d1195f511\n",
    "\n",
    "[3] Is \"Anti-STAB\" a thing? No. If it was, then Pokémon whose types have more numerous < 1.0 multipliers (weaknesses) would have have a paucity of moves that did at least normal damage. https://www.reddit.com/r/pokemon/comments/40l0ab/antistab/, http://www.gamefaqs.com/boards/661226-pokemon-black-version-2/62143899\n",
    "\n",
    "It doesn't make sense to have outgoing edges from a set of types of size greater than 1. Since damage taken is calculated from the damage of the move (not the Pokémon's type), and [2], there cannot be outgoing edges from a multiple typed vertex.\n",
    "\n",
    "We still want to look at weights both incoming and outgoing for an arbitrary set of types as vertices. We had viewed vertices as types for moves, before, but now we're adding a Pokémon perspective on vertices. This causes problems, as just forshadowed by [1] and [2].\n",
    "\n",
    "It still makes sense to look outgoing edges for just one type [2], and it's relatively safe to assume that a Pokémon can learn a moves typed like any of its types. In addition, STAB  gives incentive to use those moves [1].\n",
    "\n",
    "[4] We can then define: _the outgoing for a set of types is the union of the outgoing for each individual type._ But then, what about overlapping scores? How about this: we take the max of the effectivenesses. (We assume that higher damage increases our scoring function.) Assume that the Pokémon will make the move that maximizes damage. Now [4] is valid."
   ]
  },
  {
   "cell_type": "code",
   "execution_count": 204,
   "metadata": {
    "collapsed": false
   },
   "outputs": [],
   "source": [
    "def outgoing(types: Iterable):\n",
    "    df = pd.DataFrame(gen6[t] for t in types)\n",
    "    return pd.Series({t: df[t].max() for t in df})"
   ]
  },
  {
   "cell_type": "code",
   "execution_count": 205,
   "metadata": {
    "collapsed": false
   },
   "outputs": [
    {
     "data": {
      "text/plain": [
       "bug         1.0\n",
       "dark        1.0\n",
       "dragon      2.0\n",
       "electric    1.0\n",
       "fairy       1.0\n",
       "fighting    1.0\n",
       "fire        1.0\n",
       "flying      2.0\n",
       "ghost       2.0\n",
       "grass       2.0\n",
       "ground      2.0\n",
       "ice         1.0\n",
       "normal      1.0\n",
       "poison      1.0\n",
       "psychic     2.0\n",
       "rock        1.0\n",
       "steel       1.0\n",
       "water       1.0\n",
       "dtype: float64"
      ]
     },
     "execution_count": 205,
     "metadata": {},
     "output_type": "execute_result"
    }
   ],
   "source": [
    "outgoing(['ghost', 'ice'])"
   ]
  },
  {
   "cell_type": "markdown",
   "metadata": {},
   "source": [
    "To see this working, let's see the most conflicting Pokémon type pairs, of those who have more than one type."
   ]
  },
  {
   "cell_type": "code",
   "execution_count": 206,
   "metadata": {
    "collapsed": false
   },
   "outputs": [
    {
     "data": {
      "text/plain": [
       "[(14.5, frozenset({'fighting', 'ice'})),\n",
       " (13.0, frozenset({'ground', 'ice'})),\n",
       " (13.0, frozenset({'fighting', 'flying'})),\n",
       " (12.5, frozenset({'bug', 'ground'})),\n",
       " (12.0, frozenset({'ground', 'poison'})),\n",
       " (12.0, frozenset({'fighting', 'rock'})),\n",
       " (12.0, frozenset({'fighting', 'ghost'})),\n",
       " (11.5, frozenset({'flying', 'ground'})),\n",
       " (11.5, frozenset({'fighting', 'psychic'})),\n",
       " (11.5, frozenset({'fighting', 'poison'}))]"
      ]
     },
     "execution_count": 206,
     "metadata": {},
     "output_type": "execute_result"
    }
   ],
   "source": [
    "conflicting = []\n",
    "\n",
    "for types in list(pokemon_types)[:]:\n",
    "    df = pd.DataFrame(gen6[t] for t in types)\n",
    "    score = pd.Series(df[t].max() - df[t].min() for t in df).sum()\n",
    "    conflicting.append((score, types))\n",
    "\n",
    "sorted(conflicting, reverse=True)[:10]"
   ]
  },
  {
   "cell_type": "code",
   "execution_count": 207,
   "metadata": {
    "collapsed": false
   },
   "outputs": [
    {
     "data": {
      "text/plain": [
       "bug         1.0\n",
       "dark        1.0\n",
       "dragon      2.0\n",
       "electric    2.0\n",
       "fairy       1.0\n",
       "fighting    1.0\n",
       "fire        2.0\n",
       "flying      2.0\n",
       "ghost       1.0\n",
       "grass       2.0\n",
       "ground      2.0\n",
       "ice         1.0\n",
       "normal      1.0\n",
       "poison      2.0\n",
       "psychic     1.0\n",
       "rock        2.0\n",
       "steel       2.0\n",
       "water       1.0\n",
       "dtype: float64"
      ]
     },
     "execution_count": 207,
     "metadata": {},
     "output_type": "execute_result"
    }
   ],
   "source": [
    "outgoing({'ground', 'ice'})"
   ]
  },
  {
   "cell_type": "markdown",
   "metadata": {},
   "source": [
    "How shall we do this (incoming)? The multiplier on move against a Pokémon is defined as the product of multipliers for each of its types. So what? We still have the case for moves overlap on their multipliers... We could just take the max? \"The most vulnerable\"... no way, because I it's an easy brute forced lemma that there _does exist_ some super weakness per type. Instead lets go with mean on the multipliers.\n",
    "\n",
    "In the future it may be worth doing a weighted mean on the distribution of types that are output from the previous assumptions about the move choice in `outgoing`."
   ]
  },
  {
   "cell_type": "code",
   "execution_count": 208,
   "metadata": {
    "collapsed": false
   },
   "outputs": [],
   "source": [
    "def incoming(types: Iterable):\n",
    "    df = pd.DataFrame(gen6_pair).transpose()\n",
    "    return df[frozenset(types)]"
   ]
  },
  {
   "cell_type": "code",
   "execution_count": 209,
   "metadata": {
    "collapsed": false
   },
   "outputs": [
    {
     "data": {
      "text/plain": [
       "bug         0.5\n",
       "dark        0.5\n",
       "dragon      0.0\n",
       "electric    1.0\n",
       "fairy       1.0\n",
       "fighting    1.0\n",
       "fire        2.0\n",
       "flying      1.0\n",
       "ghost       1.0\n",
       "grass       1.0\n",
       "ground      1.0\n",
       "ice         0.5\n",
       "normal      1.0\n",
       "poison      2.0\n",
       "psychic     1.0\n",
       "rock        2.0\n",
       "steel       4.0\n",
       "water       1.0\n",
       "Name: (ice, fairy), dtype: float64"
      ]
     },
     "execution_count": 209,
     "metadata": {},
     "output_type": "execute_result"
    }
   ],
   "source": [
    "incoming(['fairy', 'ice'])"
   ]
  },
  {
   "cell_type": "code",
   "execution_count": 210,
   "metadata": {
    "collapsed": false
   },
   "outputs": [
    {
     "data": {
      "text/plain": [
       "[(13.25, frozenset({'fairy', 'steel'})),\n",
       " (13.5, frozenset({'flying', 'steel'})),\n",
       " (14.25, frozenset({'dragon', 'steel'})),\n",
       " (14.25, frozenset({'ghost', 'steel'})),\n",
       " (14.5, frozenset({'steel', 'water'})),\n",
       " (15.0, frozenset({'steel'})),\n",
       " (15.5, frozenset({'dark', 'ghost'})),\n",
       " (15.5, frozenset({'fighting', 'steel'})),\n",
       " (15.75, frozenset({'bug', 'steel'})),\n",
       " (15.75, frozenset({'ground', 'steel'}))]"
      ]
     },
     "execution_count": 210,
     "metadata": {},
     "output_type": "execute_result"
    }
   ],
   "source": [
    "sorted((incoming(types).sum(), types) for types in pokemon_types)[:10]"
   ]
  },
  {
   "cell_type": "markdown",
   "metadata": {},
   "source": [
    "So how will score the values of `incoming` and `outgoing`? For `outgoing` the number of records is also important. But we could start with naïve sum."
   ]
  },
  {
   "cell_type": "code",
   "execution_count": 211,
   "metadata": {
    "collapsed": true
   },
   "outputs": [],
   "source": [
    "@lru_cache(maxsize=None)\n",
    "def types_score(types):\n",
    "    attack = outgoing(types).sum()\n",
    "    defense = -incoming(types).sum()\n",
    "    return attack, defense"
   ]
  },
  {
   "cell_type": "code",
   "execution_count": 212,
   "metadata": {
    "collapsed": false
   },
   "outputs": [
    {
     "name": "stderr",
     "output_type": "stream",
     "text": [
      "/usr/local/lib/python3.6/site-packages/sklearn/preprocessing/data.py:586: DeprecationWarning: Passing 1d arrays as data is deprecated in 0.17 and will raise ValueError in 0.19. Reshape your data either using X.reshape(-1, 1) if your data has a single feature or X.reshape(1, -1) if it contains a single sample.\n",
      "  warnings.warn(DEPRECATION_MSG_1D, DeprecationWarning)\n",
      "/usr/local/lib/python3.6/site-packages/sklearn/preprocessing/data.py:649: DeprecationWarning: Passing 1d arrays as data is deprecated in 0.17 and will raise ValueError in 0.19. Reshape your data either using X.reshape(-1, 1) if your data has a single feature or X.reshape(1, -1) if it contains a single sample.\n",
      "  warnings.warn(DEPRECATION_MSG_1D, DeprecationWarning)\n",
      "/usr/local/lib/python3.6/site-packages/sklearn/preprocessing/data.py:321: DeprecationWarning: Passing 1d arrays as data is deprecated in 0.17 and will raise ValueError in 0.19. Reshape your data either using X.reshape(-1, 1) if your data has a single feature or X.reshape(1, -1) if it contains a single sample.\n",
      "  warnings.warn(DEPRECATION_MSG_1D, DeprecationWarning)\n",
      "/usr/local/lib/python3.6/site-packages/sklearn/preprocessing/data.py:356: DeprecationWarning: Passing 1d arrays as data is deprecated in 0.17 and will raise ValueError in 0.19. Reshape your data either using X.reshape(-1, 1) if your data has a single feature or X.reshape(1, -1) if it contains a single sample.\n",
      "  warnings.warn(DEPRECATION_MSG_1D, DeprecationWarning)\n",
      "/usr/local/lib/python3.6/site-packages/sklearn/preprocessing/data.py:586: DeprecationWarning: Passing 1d arrays as data is deprecated in 0.17 and will raise ValueError in 0.19. Reshape your data either using X.reshape(-1, 1) if your data has a single feature or X.reshape(1, -1) if it contains a single sample.\n",
      "  warnings.warn(DEPRECATION_MSG_1D, DeprecationWarning)\n",
      "/usr/local/lib/python3.6/site-packages/sklearn/preprocessing/data.py:649: DeprecationWarning: Passing 1d arrays as data is deprecated in 0.17 and will raise ValueError in 0.19. Reshape your data either using X.reshape(-1, 1) if your data has a single feature or X.reshape(1, -1) if it contains a single sample.\n",
      "  warnings.warn(DEPRECATION_MSG_1D, DeprecationWarning)\n",
      "/usr/local/lib/python3.6/site-packages/sklearn/preprocessing/data.py:321: DeprecationWarning: Passing 1d arrays as data is deprecated in 0.17 and will raise ValueError in 0.19. Reshape your data either using X.reshape(-1, 1) if your data has a single feature or X.reshape(1, -1) if it contains a single sample.\n",
      "  warnings.warn(DEPRECATION_MSG_1D, DeprecationWarning)\n",
      "/usr/local/lib/python3.6/site-packages/sklearn/preprocessing/data.py:356: DeprecationWarning: Passing 1d arrays as data is deprecated in 0.17 and will raise ValueError in 0.19. Reshape your data either using X.reshape(-1, 1) if your data has a single feature or X.reshape(1, -1) if it contains a single sample.\n",
      "  warnings.warn(DEPRECATION_MSG_1D, DeprecationWarning)\n",
      "/usr/local/lib/python3.6/site-packages/sklearn/preprocessing/data.py:586: DeprecationWarning: Passing 1d arrays as data is deprecated in 0.17 and will raise ValueError in 0.19. Reshape your data either using X.reshape(-1, 1) if your data has a single feature or X.reshape(1, -1) if it contains a single sample.\n",
      "  warnings.warn(DEPRECATION_MSG_1D, DeprecationWarning)\n",
      "/usr/local/lib/python3.6/site-packages/sklearn/preprocessing/data.py:649: DeprecationWarning: Passing 1d arrays as data is deprecated in 0.17 and will raise ValueError in 0.19. Reshape your data either using X.reshape(-1, 1) if your data has a single feature or X.reshape(1, -1) if it contains a single sample.\n",
      "  warnings.warn(DEPRECATION_MSG_1D, DeprecationWarning)\n",
      "/usr/local/lib/python3.6/site-packages/sklearn/preprocessing/data.py:321: DeprecationWarning: Passing 1d arrays as data is deprecated in 0.17 and will raise ValueError in 0.19. Reshape your data either using X.reshape(-1, 1) if your data has a single feature or X.reshape(1, -1) if it contains a single sample.\n",
      "  warnings.warn(DEPRECATION_MSG_1D, DeprecationWarning)\n",
      "/usr/local/lib/python3.6/site-packages/sklearn/preprocessing/data.py:356: DeprecationWarning: Passing 1d arrays as data is deprecated in 0.17 and will raise ValueError in 0.19. Reshape your data either using X.reshape(-1, 1) if your data has a single feature or X.reshape(1, -1) if it contains a single sample.\n",
      "  warnings.warn(DEPRECATION_MSG_1D, DeprecationWarning)\n"
     ]
    }
   ],
   "source": [
    "from sklearn import pipeline, preprocessing\n",
    "import logging\n",
    "\n",
    "logging.getLogger('sklearn').setLevel(logging.CRITICAL)\n",
    "\n",
    "type_scores = []\n",
    "for types in pokemon_types:\n",
    "    attack, defense = types_score(types)\n",
    "    type_scores.append({\n",
    "        'attack': attack,\n",
    "        'defense': defense,\n",
    "        'types': types\n",
    "    })\n",
    "type_scores = pd.DataFrame(type_scores)\n",
    "    \n",
    "pipe = pipeline.make_pipeline(\n",
    "    preprocessing.StandardScaler(),\n",
    "    preprocessing.MinMaxScaler(),\n",
    ")    \n",
    "type_scores[['attack', 'defense']] = type_scores[['attack', 'defense']].apply(\n",
    "    lambda df: pipe.fit_transform(df))"
   ]
  },
  {
   "cell_type": "code",
   "execution_count": 213,
   "metadata": {
    "collapsed": false
   },
   "outputs": [
    {
     "data": {
      "text/html": [
       "<div>\n",
       "<table border=\"1\" class=\"dataframe\">\n",
       "  <thead>\n",
       "    <tr style=\"text-align: right;\">\n",
       "      <th></th>\n",
       "      <th>attack</th>\n",
       "      <th>defense</th>\n",
       "      <th>types</th>\n",
       "    </tr>\n",
       "  </thead>\n",
       "  <tbody>\n",
       "    <tr>\n",
       "      <th>55</th>\n",
       "      <td>1.000000</td>\n",
       "      <td>0.352941</td>\n",
       "      <td>(ice, ground)</td>\n",
       "    </tr>\n",
       "    <tr>\n",
       "      <th>127</th>\n",
       "      <td>1.000000</td>\n",
       "      <td>0.274510</td>\n",
       "      <td>(fighting, ice)</td>\n",
       "    </tr>\n",
       "    <tr>\n",
       "      <th>21</th>\n",
       "      <td>0.909091</td>\n",
       "      <td>0.137255</td>\n",
       "      <td>(rock, ground)</td>\n",
       "    </tr>\n",
       "    <tr>\n",
       "      <th>108</th>\n",
       "      <td>0.909091</td>\n",
       "      <td>0.313725</td>\n",
       "      <td>(rock, fighting)</td>\n",
       "    </tr>\n",
       "    <tr>\n",
       "      <th>49</th>\n",
       "      <td>0.909091</td>\n",
       "      <td>0.588235</td>\n",
       "      <td>(flying, ground)</td>\n",
       "    </tr>\n",
       "    <tr>\n",
       "      <th>72</th>\n",
       "      <td>0.909091</td>\n",
       "      <td>0.588235</td>\n",
       "      <td>(fire, ground)</td>\n",
       "    </tr>\n",
       "  </tbody>\n",
       "</table>\n",
       "</div>"
      ],
      "text/plain": [
       "       attack   defense             types\n",
       "55   1.000000  0.352941     (ice, ground)\n",
       "127  1.000000  0.274510   (fighting, ice)\n",
       "21   0.909091  0.137255    (rock, ground)\n",
       "108  0.909091  0.313725  (rock, fighting)\n",
       "49   0.909091  0.588235  (flying, ground)\n",
       "72   0.909091  0.588235    (fire, ground)"
      ]
     },
     "execution_count": 213,
     "metadata": {},
     "output_type": "execute_result"
    }
   ],
   "source": [
    "type_scores.sort_values('attack', ascending=False)[:6]"
   ]
  },
  {
   "cell_type": "code",
   "execution_count": 21,
   "metadata": {
    "collapsed": false
   },
   "outputs": [
    {
     "data": {
      "text/html": [
       "<div>\n",
       "<table border=\"1\" class=\"dataframe\">\n",
       "  <thead>\n",
       "    <tr style=\"text-align: right;\">\n",
       "      <th></th>\n",
       "      <th>attack</th>\n",
       "      <th>defense</th>\n",
       "      <th>types</th>\n",
       "    </tr>\n",
       "  </thead>\n",
       "  <tbody>\n",
       "    <tr>\n",
       "      <th>50</th>\n",
       "      <td>0.189189</td>\n",
       "      <td>1.000000</td>\n",
       "      <td>(ghost)</td>\n",
       "    </tr>\n",
       "    <tr>\n",
       "      <th>37</th>\n",
       "      <td>0.081081</td>\n",
       "      <td>0.965174</td>\n",
       "      <td>(dragon)</td>\n",
       "    </tr>\n",
       "    <tr>\n",
       "      <th>9</th>\n",
       "      <td>0.000000</td>\n",
       "      <td>0.930348</td>\n",
       "      <td>(normal)</td>\n",
       "    </tr>\n",
       "    <tr>\n",
       "      <th>48</th>\n",
       "      <td>0.243243</td>\n",
       "      <td>0.890547</td>\n",
       "      <td>(dark)</td>\n",
       "    </tr>\n",
       "    <tr>\n",
       "      <th>72</th>\n",
       "      <td>0.243243</td>\n",
       "      <td>0.870647</td>\n",
       "      <td>(dark, ghost)</td>\n",
       "    </tr>\n",
       "    <tr>\n",
       "      <th>20</th>\n",
       "      <td>0.216216</td>\n",
       "      <td>0.820896</td>\n",
       "      <td>(psychic)</td>\n",
       "    </tr>\n",
       "  </tbody>\n",
       "</table>\n",
       "</div>"
      ],
      "text/plain": [
       "      attack   defense          types\n",
       "50  0.189189  1.000000        (ghost)\n",
       "37  0.081081  0.965174       (dragon)\n",
       "9   0.000000  0.930348       (normal)\n",
       "48  0.243243  0.890547         (dark)\n",
       "72  0.243243  0.870647  (dark, ghost)\n",
       "20  0.216216  0.820896      (psychic)"
      ]
     },
     "execution_count": 21,
     "metadata": {},
     "output_type": "execute_result"
    }
   ],
   "source": [
    "type_scores.sort_values('defense', ascending=False)[:6]"
   ]
  },
  {
   "cell_type": "code",
   "execution_count": 215,
   "metadata": {
    "collapsed": false
   },
   "outputs": [
    {
     "data": {
      "text/html": [
       "<div>\n",
       "<table border=\"1\" class=\"dataframe\">\n",
       "  <thead>\n",
       "    <tr style=\"text-align: right;\">\n",
       "      <th></th>\n",
       "      <th>attack</th>\n",
       "      <th>defense</th>\n",
       "      <th>types</th>\n",
       "    </tr>\n",
       "  </thead>\n",
       "  <tbody>\n",
       "    <tr>\n",
       "      <th>120</th>\n",
       "      <td>0.772727</td>\n",
       "      <td>0.000000</td>\n",
       "      <td>(rock, ice)</td>\n",
       "    </tr>\n",
       "    <tr>\n",
       "      <th>16</th>\n",
       "      <td>0.545455</td>\n",
       "      <td>0.078431</td>\n",
       "      <td>(grass, bug)</td>\n",
       "    </tr>\n",
       "    <tr>\n",
       "      <th>88</th>\n",
       "      <td>0.636364</td>\n",
       "      <td>0.078431</td>\n",
       "      <td>(ice, grass)</td>\n",
       "    </tr>\n",
       "    <tr>\n",
       "      <th>21</th>\n",
       "      <td>0.909091</td>\n",
       "      <td>0.137255</td>\n",
       "      <td>(rock, ground)</td>\n",
       "    </tr>\n",
       "    <tr>\n",
       "      <th>26</th>\n",
       "      <td>0.590909</td>\n",
       "      <td>0.156863</td>\n",
       "      <td>(grass, psychic)</td>\n",
       "    </tr>\n",
       "    <tr>\n",
       "      <th>53</th>\n",
       "      <td>0.727273</td>\n",
       "      <td>0.196078</td>\n",
       "      <td>(dark, ice)</td>\n",
       "    </tr>\n",
       "  </tbody>\n",
       "</table>\n",
       "</div>"
      ],
      "text/plain": [
       "       attack   defense             types\n",
       "120  0.772727  0.000000       (rock, ice)\n",
       "16   0.545455  0.078431      (grass, bug)\n",
       "88   0.636364  0.078431      (ice, grass)\n",
       "21   0.909091  0.137255    (rock, ground)\n",
       "26   0.590909  0.156863  (grass, psychic)\n",
       "53   0.727273  0.196078       (dark, ice)"
      ]
     },
     "execution_count": 215,
     "metadata": {},
     "output_type": "execute_result"
    }
   ],
   "source": [
    "type_scores.sort_values('defense', ascending=True)[:6]"
   ]
  },
  {
   "cell_type": "code",
   "execution_count": 23,
   "metadata": {
    "collapsed": false
   },
   "outputs": [
    {
     "name": "stdout",
     "output_type": "stream",
     "text": [
      "       attack   defense             types\n",
      "53   0.810811  0.447761  (flying, ground)\n",
      "59   1.000000  0.228856     (ice, ground)\n",
      "129  0.783784  0.417910     (rock, fairy)\n",
      "50   0.189189  1.000000           (ghost)\n",
      "22   0.891892  0.293532    (rock, ground)\n",
      "131  0.432432  0.751244  (ghost, psychic)\n",
      "105  0.837838  0.343284  (dark, fighting)\n",
      "122  0.459459  0.716418   (dark, psychic)\n",
      "76   0.864865  0.298507    (fire, ground)\n",
      "132  0.756757  0.402985     (fire, water)\n"
     ]
    },
    {
     "data": {
      "text/plain": [
       "21.052631578947366"
      ]
     },
     "execution_count": 23,
     "metadata": {},
     "output_type": "execute_result"
    }
   ],
   "source": [
    "from numpy.linalg import norm\n",
    "from scipy.stats import percentileofscore\n",
    "\n",
    "best = sorted((sum(vec), i) for i, vec in enumerate(type_scores[['attack', 'defense']].values))\n",
    "scores, indices = zip(*best)\n",
    "print(type_scores.take(list(reversed(indices)))[:10])\n",
    "\n",
    "types = frozenset({'normal'})\n",
    "row = type_scores[type_scores['types'] == types]\n",
    "percentileofscore(scores, sum(row[['attack', 'defense']].values.flatten()))"
   ]
  },
  {
   "cell_type": "code",
   "execution_count": 216,
   "metadata": {
    "collapsed": false
   },
   "outputs": [
    {
     "data": {
      "text/plain": [
       "{'Mamoswine', 'Piloswine', 'Swinub'}"
      ]
     },
     "execution_count": 216,
     "metadata": {},
     "output_type": "execute_result"
    }
   ],
   "source": [
    "pokemon_types[frozenset({'ground', 'ice'})]"
   ]
  },
  {
   "cell_type": "code",
   "execution_count": 219,
   "metadata": {
    "collapsed": false
   },
   "outputs": [
    {
     "data": {
      "text/plain": [
       "<seaborn.axisgrid.JointGrid at 0x112be15f8>"
      ]
     },
     "execution_count": 219,
     "metadata": {},
     "output_type": "execute_result"
    },
    {
     "data": {
      "image/png": "[encoded data removed]",
      "text/plain": [
       "<matplotlib.figure.Figure at 0x112be1588>"
      ]
     },
     "metadata": {},
     "output_type": "display_data"
    }
   ],
   "source": [
    "sns.jointplot('attack', 'defense', data=type_scores, kind='kde')"
   ]
  },
  {
   "cell_type": "code",
   "execution_count": 222,
   "metadata": {
    "collapsed": false
   },
   "outputs": [
    {
     "data": {
      "text/plain": [
       "Index(['id', 'ndex', 'species', 'forme', 'type1', 'type2', 'ability1',\n",
       "       'ability2', 'abilityH', 'hp', 'attack', 'defense', 'spattack',\n",
       "       'spdefense', 'speed', 'total', 'weight', 'height', 'dex1', 'dex2',\n",
       "       'class', 'percent-male', 'percent-female', 'pre-evolution',\n",
       "       'egg-group1', 'egg-group2'],\n",
       "      dtype='object')"
      ]
     },
     "execution_count": 222,
     "metadata": {},
     "output_type": "execute_result"
    }
   ],
   "source": [
    "pokemon_df7.columns"
   ]
  },
  {
   "cell_type": "code",
   "execution_count": 223,
   "metadata": {
    "collapsed": false
   },
   "outputs": [
    {
     "data": {
      "text/plain": [
       "81.432610744580586"
      ]
     },
     "execution_count": 223,
     "metadata": {},
     "output_type": "execute_result"
    }
   ],
   "source": [
    "name = 'Blissey'\n",
    "score = pokemon_df7[pokemon_df7['species'] == name]['total'].values[0]\n",
    "percentileofscore(pokemon_df7['total'].values, score)"
   ]
  },
  {
   "cell_type": "code",
   "execution_count": 236,
   "metadata": {
    "collapsed": false
   },
   "outputs": [
    {
     "data": {
      "text/plain": [
       "(66.446748350612623, 81.164383561643831)"
      ]
     },
     "execution_count": 236,
     "metadata": {},
     "output_type": "execute_result"
    }
   ],
   "source": [
    "def poke_score(name):\n",
    "    score = pokemon_df7[pokemon_df7['species'] == name]['total'].values[0]\n",
    "    stat_percentile = percentileofscore(pokemon_df7['total'].values, score)\n",
    "    \n",
    "    for types, pokemon in pokemon_types.items():\n",
    "        if name.capitalize() in pokemon:\n",
    "            break\n",
    "      \n",
    "    norms = np.sum(type_scores[['attack', 'defense']].values, axis=1)\n",
    "    row = type_scores[type_scores['types'] == types]\n",
    "    cover_percentile = percentileofscore(norms, row[['attack', 'defense']].values.sum())\n",
    "    \n",
    "    return stat_percentile, cover_percentile\n",
    "    \n",
    "poke_score('Toxapex')"
   ]
  },
  {
   "cell_type": "code",
   "execution_count": 238,
   "metadata": {
    "collapsed": false
   },
   "outputs": [],
   "source": [
    "all_names = pokemon_df7['species'].values\n",
    "norms = []\n",
    "for name in all_names:\n",
    "    norms.append(sum(poke_score(name)))"
   ]
  },
  {
   "cell_type": "code",
   "execution_count": 239,
   "metadata": {
    "collapsed": false
   },
   "outputs": [],
   "source": [
    "def poke_score_meta(name):\n",
    "    return percentileofscore(norms, sum(poke_score(name)))"
   ]
  },
  {
   "cell_type": "code",
   "execution_count": 240,
   "metadata": {
    "collapsed": false
   },
   "outputs": [],
   "source": [
    "best = sorted((poke_score_meta(name), name) for name in all_names)[::-1]"
   ]
  },
  {
   "cell_type": "code",
   "execution_count": 243,
   "metadata": {
    "collapsed": false
   },
   "outputs": [
    {
     "data": {
      "text/plain": [
       "92.554194156456177"
      ]
     },
     "execution_count": 243,
     "metadata": {},
     "output_type": "execute_result"
    }
   ],
   "source": [
    "poke_score_meta('Toxapex')"
   ]
  },
  {
   "cell_type": "markdown",
   "metadata": {},
   "source": [
    "What's really the best starter?\n",
    "\n",
    "What are the best pokemon in the newest generation?\n",
    "\n",
    "What if we exclude legendaries from the list?"
   ]
  },
  {
   "cell_type": "markdown",
   "metadata": {},
   "source": [
    "let's exclude legendaries, and megas"
   ]
  },
  {
   "cell_type": "code",
   "execution_count": 248,
   "metadata": {
    "collapsed": false
   },
   "outputs": [
    {
     "data": {
      "text/plain": [
       "Index(['id', 'ndex', 'species', 'forme', 'type1', 'type2', 'ability1',\n",
       "       'ability2', 'abilityH', 'hp', 'attack', 'defense', 'spattack',\n",
       "       'spdefense', 'speed', 'total', 'weight', 'height', 'dex1', 'dex2',\n",
       "       'class', 'percent-male', 'percent-female', 'pre-evolution',\n",
       "       'egg-group1', 'egg-group2'],\n",
       "      dtype='object')"
      ]
     },
     "execution_count": 248,
     "metadata": {},
     "output_type": "execute_result"
    }
   ],
   "source": [
    "pokemon_df7.columns"
   ]
  },
  {
   "cell_type": "code",
   "execution_count": 253,
   "metadata": {
    "collapsed": true
   },
   "outputs": [],
   "source": [
    "# def legendary(name):\n",
    "#     return pokemon_df[pokemon_df['Name'] == name]['Legendary'].values[0]\n",
    "\n",
    "def mega(name):\n",
    "    return 'Mega ' in name"
   ]
  },
  {
   "cell_type": "code",
   "execution_count": 264,
   "metadata": {
    "collapsed": false
   },
   "outputs": [
    {
     "data": {
      "text/plain": [
       "[((96.182846371347779, 91.095890410958901), 'Dialga'),\n",
       " ((91.093308199811503, 100.0), 'Magearna'),\n",
       " ((96.182846371347779, 83.561643835616437), 'Solgaleo'),\n",
       " ((91.093308199811503, 96.232876712328761), 'Landorus'),\n",
       " ((91.093308199811503, 94.520547945205479), 'Genesect'),\n",
       " ((91.093308199811503, 92.465753424657535), 'Marshadow'),\n",
       " ((91.093308199811503, 89.38356164383562), 'Heatran'),\n",
       " ((87.276154571159282, 97.260273972602747), 'Cobalion'),\n",
       " ((96.182846371347779, 72.260273972602747), 'Reshiram'),\n",
       " ((91.093308199811503, 84.93150684931507), 'Volcanion'),\n",
       " ((91.093308199811503, 83.561643835616437), 'Jirachi'),\n",
       " ((91.093308199811503, 83.561643835616437), 'Metagross'),\n",
       " ((84.637134778510841, 98.630136986301366), 'Celesteela'),\n",
       " ((96.182846371347779, 67.123287671232873), 'Yveltal'),\n",
       " ((87.276154571159282, 80.136986301369859), 'Thundurus'),\n",
       " ((87.276154571159282, 80.136986301369859), 'Zapdos'),\n",
       " ((96.182846371347779, 57.534246575342465), 'Palkia'),\n",
       " ((87.276154571159282, 78.767123287671239), 'Keldeo'),\n",
       " ((91.093308199811503, 68.835616438356169), 'Victini'),\n",
       " ((78.793590951932131, 95.205479452054803), 'Empoleon'),\n",
       " ((91.093308199811503, 63.698630136986303), 'Diancie'),\n",
       " ((78.793590951932131, 93.835616438356169), 'Primarina'),\n",
       " ((76.955702167766262, 97.260273972602747), 'Lucario'),\n",
       " ((84.637134778510841, 76.027397260273972), 'Kartana'),\n",
       " ((79.924599434495761, 87.671232876712324), 'Infernape'),\n",
       " ((80.584354382657878, 85.61643835616438), 'Magnezone'),\n",
       " ((96.182846371347779, 46.232876712328768), 'Giratina'),\n",
       " ((75.400565504241285, 97.945205479452056), 'Aegislash'),\n",
       " ((78.793590951932131, 87.671232876712324), 'Blaziken'),\n",
       " ((87.276154571159282, 65.753424657534239), 'Terrakion'),\n",
       " ((91.093308199811503, 54.794520547945204), 'Garchomp'),\n",
       " ((91.093308199811503, 54.794520547945204), 'Zygarde'),\n",
       " ((77.851083883129121, 87.671232876712324), 'Emboar'),\n",
       " ((73.044297832233738, 99.315068493150676), 'Steelix'),\n",
       " ((81.432610744580586, 77.054794520547944), 'Gyarados'),\n",
       " ((72.384542884071635, 99.315068493150676), 'Excadrill'),\n",
       " ((98.727615457115931, 33.219178082191782), 'Arceus'),\n",
       " ((78.793590951932131, 82.876712328767127), 'Incineroar'),\n",
       " ((78.793590951932131, 82.191780821917803), 'Mamoswine'),\n",
       " ((75.400565504241285, 90.410958904109577), 'Chandelure'),\n",
       " ((73.044297832233738, 96.232876712328761), 'Gliscor'),\n",
       " ((96.182846371347779, 37.671232876712331), 'Zekrom'),\n",
       " ((80.584354382657878, 75.342465753424662), 'Swampert'),\n",
       " ((87.276154571159282, 58.561643835616437), 'Moltres'),\n",
       " ((78.793590951932131, 77.054794520547944), 'Golisopod'),\n",
       " ((95.240339302544768, 35.61643835616438), 'Groudon'),\n",
       " ((71.81903864278982, 92.465753424657535), 'Nidoqueen'),\n",
       " ((71.81903864278982, 92.465753424657535), 'Nidoking'),\n",
       " ((87.276154571159282, 53.424657534246577), 'Registeel'),\n",
       " ((96.182846371347779, 30.82191780821918), 'Xerneas'),\n",
       " ((83.223374175306319, 61.986301369863014), 'Archeops'),\n",
       " ((79.924599434495761, 68.835616438356169), 'Delphox'),\n",
       " ((69.604147031102741, 94.520547945205479), 'Scizor'),\n",
       " ((91.093308199811503, 39.726027397260275), 'Kommo-o'),\n",
       " ((74.081055607917051, 81.164383561643831), 'Tentacruel'),\n",
       " ((96.182846371347779, 25.0), 'Rayquaza'),\n",
       " ((96.182846371347779, 25.0), 'Lugia'),\n",
       " ((96.182846371347779, 23.287671232876711), 'Ho-Oh'),\n",
       " ((81.95098963242225, 58.561643835616437), 'Togekiss'),\n",
       " ((69.604147031102741, 88.356164383561648), 'Hawlucha'),\n",
       " ((95.240339302544768, 23.972602739726025), 'Kyogre'),\n",
       " ((82.092365692742703, 56.5068493150685), 'Volcarona'),\n",
       " ((73.044297832233738, 78.767123287671239), 'Poliwrath'),\n",
       " ((81.432610744580586, 57.534246575342465), 'Kingdra'),\n",
       " ((74.835061262959471, 73.972602739726028), 'Krookodile'),\n",
       " ((66.446748350612623, 94.520547945205479), 'Escavalier'),\n",
       " ((78.793590951932131, 61.986301369863014), 'Aggron'),\n",
       " ((79.924599434495761, 58.561643835616437), 'Charizard'),\n",
       " ((69.604147031102741, 83.561643835616437), 'Bronzong'),\n",
       " ((78.793590951932131, 60.273972602739725), 'Decidueye'),\n",
       " ((78.793590951932131, 60.273972602739725), 'Greninja'),\n",
       " ((96.182846371347779, 16.780821917808218), 'Lunala'),\n",
       " ((69.604147031102741, 82.876712328767127), 'Houndoom'),\n",
       " ((74.693685202639017, 69.863013698630141), 'Gallade'),\n",
       " ((72.478793590951923, 75.342465753424662), 'Seismitoad'),\n",
       " ((76.955702167766262, 61.986301369863014), 'Probopass'),\n",
       " ((69.604147031102741, 79.452054794520549), 'Drapion'),\n",
       " ((87.276154571159282, 34.589041095890408), 'Articuno'),\n",
       " ((91.093308199811503, 25.0), 'Salamence'),\n",
       " ((91.093308199811503, 25.0), 'Dragonite'),\n",
       " ((84.637134778510841, 41.095890410958901), 'Nihilego'),\n",
       " ((95.004712535344012, 15.068493150684931), 'Kyurem'),\n",
       " ((91.093308199811503, 23.972602739726025), 'Manaphy'),\n",
       " ((87.276154571159282, 33.219178082191782), 'Entei'),\n",
       " ((80.584354382657878, 49.315068493150683), 'Crobat'),\n",
       " ((73.044297832233738, 67.123287671232873), 'Mandibuzz'),\n",
       " ((80.584354382657878, 47.260273972602739), 'Lapras'),\n",
       " ((91.093308199811503, 20.547945205479451), 'Tyranitar'),\n",
       " ((66.446748350612623, 81.164383561643831), 'Toxapex'),\n",
       " ((74.081055607917051, 61.986301369863014), 'Aerodactyl'),\n",
       " ((64.09048067860509, 86.643835616438352), 'Bisharp'),\n",
       " ((71.81903864278982, 67.123287671232873), 'Honchkrow'),\n",
       " ((74.552309142318563, 60.273972602739725), 'Dhelmise'),\n",
       " ((91.093308199811503, 18.835616438356166), 'Meloetta'),\n",
       " ((69.604147031102741, 72.260273972602747), 'Vikavolt'),\n",
       " ((60.650329877474086, 94.520547945205479), 'Durant'),\n",
       " ((84.637134778510841, 33.219178082191782), 'Silvally'),\n",
       " ((91.093308199811503, 16.780821917808218), 'Hoopa'),\n",
       " ((78.793590951932131, 47.260273972602739), 'Walrein'),\n",
       " ((96.182846371347779, 3.4246575342465753), 'Mewtwo'),\n",
       " ((84.637134778510841, 31.849315068493151), 'Pheromosa'),\n",
       " ((84.637134778510841, 31.849315068493151), 'Buzzwole'),\n",
       " ((60.367577756833178, 92.465753424657535), 'Golurk'),\n",
       " ((75.400565504241285, 54.794520547945204), 'Flygon'),\n",
       " ((71.81903864278982, 63.013698630136986), 'Shuckle'),\n",
       " ((87.276154571159282, 23.972602739726025), 'Suicune'),\n",
       " ((75.400565504241285, 53.424657534246577), 'Klinklang'),\n",
       " ((80.584354382657878, 40.410958904109592), 'Rhyperior'),\n",
       " ((82.799245994344957, 33.219178082191782), 'Arcanine'),\n",
       " ((95.240339302544768, 2.054794520547945), 'Slaking'),\n",
       " ((95.240339302544768, 2.054794520547945), 'Regigigas'),\n",
       " ((58.953817153628648, 92.465753424657535), 'Palossand'),\n",
       " ((91.093308199811503, 11.986301369863012), 'Latios'),\n",
       " ((91.093308199811503, 11.986301369863012), 'Hydreigon'),\n",
       " ((91.093308199811503, 11.986301369863012), 'Latias'),\n",
       " ((76.955702167766262, 47.260273972602739), 'Cloyster'),\n",
       " ((67.530631479736101, 70.547945205479451), 'Drifblim'),\n",
       " ((87.276154571159282, 20.547945205479451), 'Virizion'),\n",
       " ((75.400565504241285, 50.0), 'Starmie'),\n",
       " ((69.604147031102741, 64.38356164383562), 'Gengar'),\n",
       " ((69.604147031102741, 63.698630136986303), 'Carbink'),\n",
       " ((87.276154571159282, 18.835616438356166), 'Tornadus'),\n",
       " ((82.469368520263899, 30.82191780821918), 'Florges'),\n",
       " ((91.093308199811503, 9.2465753424657535), 'Darkrai'),\n",
       " ((76.955702167766262, 44.520547945205479), 'Venusaur'),\n",
       " ((81.432610744580586, 33.219178082191782), 'Magmortar'),\n",
       " ((54.335532516493878, 100.0), 'Klefki'),\n",
       " ((84.637134778510841, 23.287671232876711), 'Tapu Koko'),\n",
       " ((84.637134778510841, 23.287671232876711), 'Tapu Fini'),\n",
       " ((84.637134778510841, 23.287671232876711), 'Tapu Bulu'),\n",
       " ((84.637134778510841, 23.287671232876711), 'Tapu Lele'),\n",
       " ((91.093308199811503, 6.8493150684931505), 'Celebi'),\n",
       " ((63.05372290292177, 76.027397260273972), 'Ferrothorn'),\n",
       " ((72.290292177191333, 52.739726027397261), 'Pyroar'),\n",
       " ((57.492931196983974, 89.38356164383562), 'Mimikyu'),\n",
       " ((79.924599434495761, 33.219178082191782), 'Typhlosion'),\n",
       " ((66.446748350612623, 66.438356164383563), 'Pangoro'),\n",
       " ((87.276154571159282, 13.698630136986301), 'Raikou'),\n",
       " ((91.093308199811503, 4.10958904109589), 'Goodra'),\n",
       " ((53.251649387370406, 98.630136986301366), 'Skarmory'),\n",
       " ((91.093308199811503, 3.4246575342465753), 'Necrozma'),\n",
       " ((91.093308199811503, 3.4246575342465753), 'Deoxys'),\n",
       " ((91.093308199811503, 3.4246575342465753), 'Cresselia'),\n",
       " ((91.093308199811503, 3.4246575342465753), 'Mew'),\n",
       " ((61.545711592836952, 77.054794520547944), 'Mantine'),\n",
       " ((74.693685202639017, 43.835616438356162), 'Gardevoir'),\n",
       " ((87.276154571159282, 11.986301369863012), 'Regirock'),\n",
       " ((74.081055607917051, 44.520547945205479), 'Roserade'),\n",
       " ((66.446748350612623, 63.013698630136986), 'Armaldo'),\n",
       " ((58.953817153628648, 81.164383561643831), 'Jellicent'),\n",
       " ((91.093308199811503, 0.68493150684931503), 'Shaymin'),\n",
       " ((66.446748350612623, 61.986301369863014), 'Bastiodon'),\n",
       " ((76.955702167766262, 35.61643835616438), 'Hippowdon'),\n",
       " ((67.766258246936843, 58.561643835616437), 'Talonflame'),\n",
       " ((53.251649387370406, 94.520547945205479), 'Forretress'),\n",
       " ((81.432610744580586, 23.972602739726025), 'Milotic'),\n",
       " ((76.955702167766262, 34.589041095890408), 'Torterra'),\n",
       " ((80.584354382657878, 25.0), 'Noivern'),\n",
       " ((61.545711592836952, 72.260273972602747), 'Turtonator'),\n",
       " ((51.932139491046179, 96.232876712328761), 'Camerupt'),\n",
       " ((76.955702167766262, 33.219178082191782), 'Flareon'),\n",
       " ((69.604147031102741, 51.369863013698634), 'Claydol'),\n",
       " ((64.09048067860509, 65.06849315068493), 'Toxicroak'),\n",
       " ((84.637134778510841, 13.698630136986301), 'Xurkitree'),\n",
       " ((80.584354382657878, 23.287671232876711), 'Porygon-Z'),\n",
       " ((87.276154571159282, 6.1643835616438354), 'Regice'),\n",
       " ((57.917059377945336, 79.452054794520549), 'Skuntank'),\n",
       " ((62.912346842601316, 66.438356164383563), 'Scrafty'),\n",
       " ((65.362865221489159, 60.273972602739725), 'Gourgeist'),\n",
       " ((84.637134778510841, 11.986301369863012), 'Guzzlord'),\n",
       " ((76.955702167766262, 30.82191780821918), 'Sylveon'),\n",
       " ((79.924599434495761, 23.287671232876711), 'Type: Null'),\n",
       " ((69.604147031102741, 48.630136986301373), 'Barbaracle'),\n",
       " ((87.276154571159282, 3.4246575342465753), 'Azelf'),\n",
       " ((87.276154571159282, 3.4246575342465753), 'Uxie'),\n",
       " ((87.276154571159282, 3.4246575342465753), 'Mesprit'),\n",
       " ((66.446748350612623, 55.479452054794521), 'Cradily'),\n",
       " ((78.793590951932131, 23.972602739726025), 'Blastoise'),\n",
       " ((78.793590951932131, 23.972602739726025), 'Feraligatr'),\n",
       " ((48.491988689915175, 97.945205479452056), 'Doublade'),\n",
       " ((53.251649387370406, 85.61643835616438), 'Magneton'),\n",
       " ((77.851083883129121, 23.972602739726025), 'Samurott'),\n",
       " ((76.013195098963237, 27.739726027397261), 'Tyrantrum'),\n",
       " ((57.775683317624882, 73.287671232876718), 'Crabominable'),\n",
       " ((78.793590951932131, 20.547945205479451), 'Chesnaught'),\n",
       " ((81.432610744580586, 13.698630136986301), 'Electivire'),\n",
       " ((56.738925541941562, 75.342465753424662), 'Gastrodon'),\n",
       " ((61.545711592836952, 63.013698630136986), 'Crustle'),\n",
       " ((55.796418473138552, 77.054794520547944), 'Swanna'),\n",
       " ((76.955702167766262, 23.972602739726025), 'Vaporeon'),\n",
       " ((58.953817153628648, 68.835616438356169), 'Froslass'),\n",
       " ((69.604147031102741, 42.12328767123288), 'Bewear'),\n",
       " ((73.044297832233738, 33.219178082191782), 'Braviary'),\n",
       " ((76.955702167766262, 22.602739726027394), 'Dusknoir'),\n",
       " ((66.446748350612623, 48.630136986301373), 'Carracosta'),\n",
       " ((66.446748350612623, 48.630136986301373), 'Omastar'),\n",
       " ((66.446748350612623, 48.630136986301373), 'Kabutops'),\n",
       " ((54.665409990574929, 78.082191780821915), 'Stunfisk'),\n",
       " ((71.81903864278982, 33.219178082191782), 'Ninetales'),\n",
       " ((45.805843543826583, 96.232876712328761), 'Gligar'),\n",
       " ((55.230914231856744, 72.260273972602747), 'Galvantula'),\n",
       " ((53.958529688972668, 75.342465753424662), 'Whiscash'),\n",
       " ((64.09048067860509, 50.0), 'Slowking'),\n",
       " ((64.09048067860509, 50.0), 'Slowbro'),\n",
       " ((69.604147031102741, 35.61643835616438), 'Mudsdale'),\n",
       " ((69.604147031102741, 35.61643835616438), 'Donphan'),\n",
       " ((81.432610744580586, 4.10958904109589), 'Haxorus'),\n",
       " ((80.584354382657878, 6.1643835616438354), 'Vanilluxe'),\n",
       " ((69.604147031102741, 33.219178082191782), 'Rapidash'),\n",
       " ((66.446748350612623, 40.410958904109592), 'Golem'),\n",
       " ((76.955702167766262, 13.698630136986301), 'Jolteon'),\n",
       " ((69.604147031102741, 31.849315068493151), 'Heracross'),\n",
       " ((81.432610744580586, 2.054794520547945), 'Blissey'),\n",
       " ((81.432610744580586, 2.054794520547945), 'Snorlax'),\n",
       " ((64.09048067860509, 44.520547945205479), 'Vileplume'),\n",
       " ((64.09048067860509, 44.520547945205479), 'Victreebel'),\n",
       " ((49.010367577756838, 82.191780821917803), 'Piloswine'),\n",
       " ((73.044297832233738, 21.917808219178081), 'Weavile'),\n",
       " ((76.154571159283691, 13.698630136986301), 'Luxray'),\n",
       " ((78.793590951932131, 6.8493150684931505), 'Exeggutor'),\n",
       " ((74.081055607917051, 17.80821917808219), 'Yanmega'),\n",
       " ((43.590951932139497, 93.835616438356169), 'Azumarill'),\n",
       " ((61.545711592836952, 48.630136986301373), 'Relicanth'),\n",
       " ((57.492931196983974, 58.561643835616437), 'Oricorio'),\n",
       " ((80.584354382657878, 0.68493150684931503), 'Tangrowth'),\n",
       " ((46.182846371347786, 86.643835616438352), 'Dedenne'),\n",
       " ((67.530631479736101, 33.219178082191782), 'Simisear'),\n",
       " ((49.858623939679546, 77.054794520547944), 'Araquanid'),\n",
       " ((46.418473138548535, 85.61643835616438), 'Togedemaru'),\n",
       " ((76.955702167766262, 9.2465753424657535), 'Umbreon'),\n",
       " ((56.032045240339301, 60.273972602739725), 'Trevenant'),\n",
       " ((79.641847313854853, 0.68493150684931503), 'Gogoat'),\n",
       " ((65.362865221489159, 36.301369863013697), 'Dragalge'),\n",
       " ((47.360980207351552, 81.164383561643831), 'Qwilfish'),\n",
       " ((58.953817153628648, 52.054794520547944), 'Salazzle'),\n",
       " ((66.446748350612623, 33.219178082191782), 'Magmar'),\n",
       " ((74.081055607917051, 13.698630136986301), 'Eelektross'),\n",
       " ((76.955702167766262, 6.1643835616438354), 'Glaceon'),\n",
       " ((47.360980207351552, 80.136986301369859), 'Rotom'),\n",
       " ((76.013195098963237, 8.2191780821917799), 'Aurorus'),\n",
       " ((69.604147031102741, 23.972602739726025), 'Clawitzer'),\n",
       " ((69.604147031102741, 23.972602739726025), 'Politoed'),\n",
       " ((69.604147031102741, 23.972602739726025), 'Wailord'),\n",
       " ((69.604147031102741, 23.972602739726025), 'Golduck'),\n",
       " ((78.793590951932131, 0.68493150684931503), 'Sceptile'),\n",
       " ((51.932139491046179, 67.808219178082197), 'Lanturn'),\n",
       " ((74.081055607917051, 11.986301369863012), 'Gigalith'),\n",
       " ((73.044297832233738, 14.383561643835616), 'Mienshao'),\n",
       " ((73.044297832233738, 13.698630136986301), 'Ampharos'),\n",
       " ((76.955702167766262, 3.4246575342465753), 'Espeon'),\n",
       " ((47.360980207351552, 77.054794520547944), 'Pelipper'),\n",
       " ((77.851083883129121, 0.68493150684931503), 'Serperior'),\n",
       " ((53.958529688972668, 60.273972602739725), 'Crawdaunt'),\n",
       " ((42.695570216776623, 87.671232876712324), 'Pignite'),\n",
       " ((61.545711592836952, 40.410958904109592), 'Rhydon'),\n",
       " ((71.81903864278982, 14.383561643835616), 'Machamp'),\n",
       " ((71.81903864278982, 14.383561643835616), 'Conkeldurr'),\n",
       " ((45.428840716305373, 80.136986301369859), 'Emolga'),\n",
       " ((76.955702167766262, 0.68493150684931503), 'Meganium'),\n",
       " ((76.955702167766262, 0.68493150684931503), 'Leafeon'),\n",
       " ((67.530631479736101, 23.972602739726025), 'Simipour'),\n",
       " ((43.590951932139497, 83.561643835616437), 'Metang'),\n",
       " ((73.044297832233738, 9.2465753424657535), 'Zoroark'),\n",
       " ((56.738925541941562, 50.0), 'Bruxish'),\n",
       " ((69.604147031102741, 17.80821917808219), 'Scyther'),\n",
       " ((74.081055607917051, 6.1643835616438354), 'Cryogonal'),\n",
       " ((62.912346842601316, 33.219178082191782), 'Unfezant'),\n",
       " ((73.609802073515553, 6.1643835616438354), 'Avalugg'),\n",
       " ((51.932139491046179, 60.273972602739725), 'Sharpedo'),\n",
       " ((66.446748350612623, 23.972602739726025), 'Floatzel'),\n",
       " ((45.805843543826583, 75.342465753424662), 'Quagsire'),\n",
       " ((56.738925541941562, 47.260273972602739), 'Dewgong'),\n",
       " ((59.943449575871824, 39.041095890410958), 'Heliolisk'),\n",
       " ((66.446748350612623, 22.602739726027394), 'Mismagius'),\n",
       " ((74.081055607917051, 2.054794520547945), 'Lickilicky'),\n",
       " ((74.081055607917051, 2.054794520547945), 'Porygon2'),\n",
       " ((61.545711592836952, 33.219178082191782), 'Staraptor'),\n",
       " ((61.545711592836952, 33.219178082191782), 'Toucannon'),\n",
       " ((71.81903864278982, 6.1643835616438354), 'Beartic'),\n",
       " ((64.09048067860509, 25.0), 'Altaria'),\n",
       " ((64.09048067860509, 25.0), 'Sigilyph'),\n",
       " ((60.650329877474086, 33.219178082191782), 'Heatmor'),\n",
       " ((61.545711592836952, 30.82191780821918), 'Comfey'),\n",
       " ((33.459000942507068, 100.0), 'Mawile'),\n",
       " ((73.044297832233738, 0.68493150684931503), 'Tsareena'),\n",
       " ((67.295004712535345, 13.698630136986301), 'Zebstrika'),\n",
       " ((37.653157398680491, 87.671232876712324), 'Monferno'),\n",
       " ((37.653157398680491, 87.671232876712324), 'Combusken'),\n",
       " ((60.367577756833178, 30.82191780821918), 'Clefable'),\n",
       " ((69.604147031102741, 7.5342465753424657), 'Muk'),\n",
       " ((58.953817153628648, 33.219178082191782), 'Darmanitan'),\n",
       " ((61.545711592836952, 26.712328767123289), 'Scolipede'),\n",
       " ((47.360980207351552, 61.986301369863014), 'Minior'),\n",
       " ((64.09048067860509, 18.835616438356166), 'Oranguru'),\n",
       " ((58.953817153628648, 30.82191780821918), 'Slurpuff'),\n",
       " ((66.446748350612623, 11.986301369863012), 'Rampardos'),\n",
       " ((57.917059377945336, 33.219178082191782), 'Pidgeot'),\n",
       " ((61.545711592836952, 23.972602739726025), 'Gorebyss'),\n",
       " ((61.545711592836952, 23.972602739726025), 'Huntail'),\n",
       " ((58.953817153628648, 30.136986301369863), 'Ludicolo'),\n",
       " ((69.604147031102741, 3.4246575342465753), 'Alakazam'),\n",
       " ((58.953817153628648, 29.452054794520549), 'Whimsicott'),\n",
       " ((69.604147031102741, 2.7397260273972601), 'Pinsir'),\n",
       " ((52.827521206409045, 44.520547945205479), 'Amoonguss'),\n",
       " ((45.805843543826583, 61.986301369863014), 'Lairon'),\n",
       " ((61.545711592836952, 22.602739726027394), 'Spiritomb'),\n",
       " ((69.604147031102741, 2.054794520547945), 'Ursaring'),\n",
       " ((69.604147031102741, 2.054794520547945), 'Stoutland'),\n",
       " ((50.518378887841664, 49.315068493150683), 'Golbat'),\n",
       " ((69.604147031102741, 1.3698630136986301), 'Leavanny'),\n",
       " ((64.09048067860509, 14.383561643835616), 'Passimian'),\n",
       " ((64.09048067860509, 13.698630136986301), 'Electrode'),\n",
       " ((64.09048067860509, 13.698630136986301), 'Electabuzz'),\n",
       " ((60.367577756833178, 22.602739726027394), 'Cofagrigus'),\n",
       " ((47.360980207351552, 53.424657534246577), 'Klang'),\n",
       " ((32.469368520263906, 90.410958904109577), 'Lampent'),\n",
       " ((58.953817153628648, 23.972602739726025), 'Octillery'),\n",
       " ((58.953817153628648, 23.972602739726025), 'Phione'),\n",
       " ((44.392082940622061, 60.273972602739725), 'Diggersby'),\n",
       " ((52.827521206409045, 38.356164383561641), 'Ribombee'),\n",
       " ((67.530631479736101, 0.68493150684931503), 'Simisage'),\n",
       " ((37.653157398680491, 75.342465753424662), 'Marshtomp'),\n",
       " ((54.335532516493878, 33.219178082191782), 'Torkoal'),\n",
       " ((66.446748350612623, 2.7397260273972601), 'Accelgor'),\n",
       " ((62.67672007540056, 11.986301369863012), 'Lycanroc'),\n",
       " ((39.443920829406224, 69.863013698630141), 'Medicham'),\n",
       " ((65.362865221489159, 4.7945205479452051), 'Abomasnow'),\n",
       " ((64.09048067860509, 7.5342465753424657), 'Weezing'),\n",
       " ((61.545711592836952, 13.698630136986301), 'Raichu'),\n",
       " ((60.084825636192271, 16.780821917808218), 'Malamar'),\n",
       " ((46.418473138548535, 50.684931506849317), 'Wigglytuff'),\n",
       " ((56.738925541941562, 23.972602739726025), 'Kingler'),\n",
       " ((64.09048067860509, 3.4246575342465753), 'Reuniclus'),\n",
       " ((64.09048067860509, 3.4246575342465753), 'Gothitelle'),\n",
       " ((58.953817153628648, 15.753424657534246), 'Shiftry'),\n",
       " ((61.545711592836952, 9.2465753424657535), 'Drampa'),\n",
       " ((51.932139491046179, 33.219178082191782), 'Dodrio'),\n",
       " ((52.686145146088592, 30.82191780821918), 'Aromatisse'),\n",
       " ((64.09048067860509, 2.054794520547945), 'Bouffalant'),\n",
       " ((64.09048067860509, 2.054794520547945), 'Kangaskhan'),\n",
       " ((64.09048067860509, 2.054794520547945), 'Tauros'),\n",
       " ((64.09048067860509, 2.054794520547945), 'Exploud'),\n",
       " ((64.09048067860509, 2.054794520547945), 'Miltank'),\n",
       " ((36.003770028275213, 72.260273972602747), 'Charjabug'),\n",
       " ((37.653157398680491, 67.123287671232873), 'Murkrow'),\n",
       " ((64.09048067860509, 0.68493150684931503), 'Bellossom'),\n",
       " ((54.335532516493878, 25.0), 'Xatu'),\n",
       " ((62.67672007540056, 3.4246575342465753), 'Musharna'),\n",
       " ((33.788878416588126, 75.342465753424662), 'Palpitoad'),\n",
       " ((54.335532516493878, 23.972602739726025), 'Alomomola'),\n",
       " ((50.518378887841664, 33.219178082191782), 'Swellow'),\n",
       " ((51.932139491046179, 28.767123287671232), 'Tropius'),\n",
       " ((51.932139491046179, 28.767123287671232), 'Jumpluff'),\n",
       " ((37.653157398680491, 64.38356164383562), 'Haunter'),\n",
       " ((49.010367577756838, 35.61643835616438), 'Sandslash'),\n",
       " ((61.545711592836952, 4.10958904109589), 'Druddigon'),\n",
       " ((56.032045240339301, 17.80821917808219), 'Vespiquen'),\n",
       " ((56.738925541941562, 15.753424657534246), 'Cacturne'),\n",
       " ((61.545711592836952, 3.4246575342465753), 'Beheeyem'),\n",
       " ((49.575871819038639, 33.219178082191782), 'Noctowl'),\n",
       " ((28.180961357210176, 86.643835616438352), 'Pawniard'),\n",
       " ((51.932139491046179, 26.027397260273972), 'Lunatone'),\n",
       " ((51.932139491046179, 26.027397260273972), 'Solrock'),\n",
       " ((56.738925541941562, 13.698630136986301), 'Manectric'),\n",
       " ((56.032045240339301, 14.383561643835616), 'Hariyama'),\n",
       " ((60.367577756833178, 3.4246575342465753), 'Hypno'),\n",
       " ((56.738925541941562, 11.986301369863012), 'Sawsbuck'),\n",
       " ((51.932139491046179, 23.972602739726025), 'Basculin'),\n",
       " ((51.932139491046179, 23.972602739726025), 'Lumineon'),\n",
       " ((48.162111215834116, 33.219178082191782), 'Fearow'),\n",
       " ((58.953817153628648, 6.1643835616438354), 'Glalie'),\n",
       " ((39.443920829406224, 54.794520547945204), 'Gabite'),\n",
       " ((49.010367577756838, 30.82191780821918), 'Granbull'),\n",
       " ((51.932139491046179, 23.287671232876711), 'Mr. Mime'),\n",
       " ((36.380772855796415, 61.986301369863014), 'Archen'),\n",
       " ((37.653157398680491, 58.561643835616437), 'Togetic'),\n",
       " ((60.084825636192271, 2.054794520547945), 'Ambipom'),\n",
       " ((21.489161168708765, 97.945205479452056), 'Honedge'),\n",
       " ((45.805843543826583, 36.986301369863014), 'Magcargo'),\n",
       " ((51.932139491046179, 20.547945205479451), 'Breloom'),\n",
       " ((58.953817153628648, 2.054794520547945), 'Lopunny'),\n",
       " ((58.953817153628648, 2.054794520547945), 'Komala'),\n",
       " ((28.934967012252592, 77.054794520547944), 'Mantyke'),\n",
       " ((30.16022620169651, 73.972602739726028), 'Krokorok'),\n",
       " ((49.010367577756838, 26.712328767123289), 'Venomoth'),\n",
       " ((50.518378887841664, 22.602739726027394), 'Banette'),\n",
       " ((50.518378887841664, 22.602739726027394), 'Dusclops'),\n",
       " ((43.590951932139497, 39.726027397260275), 'Hakamo-o'),\n",
       " ((45.098963242224315, 35.61643835616438), 'Dugtrio'),\n",
       " ((45.098963242224315, 35.61643835616438), 'Marowak'),\n",
       " ((32.469368520263906, 67.123287671232873), 'Vullaby'),\n",
       " ((58.953817153628648, 0.68493150684931503), 'Lurantis'),\n",
       " ((58.953817153628648, 0.68493150684931503), 'Lilligant'),\n",
       " ((56.032045240339301, 7.5342465753424657), 'Garbodor'),\n",
       " ((53.251649387370406, 14.383561643835616), 'Throh'),\n",
       " ((53.251649387370406, 14.383561643835616), 'Sawk'),\n",
       " ((39.443920829406224, 48.630136986301373), 'Corsola'),\n",
       " ((50.518378887841664, 20.547945205479451), 'Jynx'),\n",
       " ((49.010367577756838, 23.972602739726025), 'Seaking'),\n",
       " ((39.443920829406224, 47.260273972602739), 'Sealeo'),\n",
       " ((51.083883129123464, 17.80821917808219), 'Ninjask'),\n",
       " ((50.518378887841664, 18.835616438356166), 'Girafarig'),\n",
       " ((39.443920829406224, 46.232876712328768), 'Bibarel'),\n",
       " ((29.2177191328935, 70.547945205479451), 'Drifloon'),\n",
       " ((33.647502356267672, 58.561643835616437), 'Fletchinder'),\n",
       " ((49.858623939679546, 17.80821917808219), 'Masquerain'),\n",
       " ((53.251649387370406, 9.2465753424657535), 'Absol'),\n",
       " ((47.360980207351552, 23.972602739726025), 'Seadra'),\n",
       " ((24.458058435438264, 81.164383561643831), 'Frillish'),\n",
       " ((24.458058435438264, 81.164383561643831), 'Tentacool'),\n",
       " ((43.590951932139497, 33.219178082191782), 'Torracat'),\n",
       " ((43.590951932139497, 33.219178082191782), 'Castform'),\n",
       " ((19.886899151743638, 92.465753424657535), 'Sandygast'),\n",
       " ((53.817153628652214, 7.5342465753424657), 'Swalot'),\n",
       " ((50.518378887841664, 14.383561643835616), 'Primeape'),\n",
       " ((50.518378887841664, 14.383561643835616), 'Hitmonlee'),\n",
       " ((50.518378887841664, 14.383561643835616), 'Hitmontop'),\n",
       " ((50.518378887841664, 14.383561643835616), 'Hitmonchan'),\n",
       " ((23.091423185673893, 82.876712328767127), 'Houndour'),\n",
       " ((55.230914231856744, 2.054794520547945), 'Furfrou'),\n",
       " ((29.2177191328935, 66.438356164383563), 'Scraggy'),\n",
       " ((30.537229029217723, 63.013698630136986), 'Anorith'),\n",
       " ((21.489161168708765, 85.61643835616438), 'Magnemite'),\n",
       " ((54.335532516493878, 3.4246575342465753), 'Grumpig'),\n",
       " ((39.443920829406224, 40.410958904109592), 'Pupitar'),\n",
       " ((37.653157398680491, 44.520547945205479), 'Ivysaur'),\n",
       " ((46.418473138548535, 22.602739726027394), 'Misdreavus'),\n",
       " ((54.335532516493878, 2.054794520547945), 'Cinccino'),\n",
       " ((33.459000942507068, 54.109589041095894), 'Sableye'),\n",
       " ((45.098963242224315, 25.0), 'Swoobat'),\n",
       " ((43.590951932139497, 28.767123287671232), 'Dartrix'),\n",
       " ((53.67577756833176, 3.4246575342465753), 'Meowstic'),\n",
       " ((29.783223374175304, 61.986301369863014), 'Shieldon'),\n",
       " ((45.805843543826583, 21.917808219178081), 'Sneasel'),\n",
       " ((51.225259189443918, 7.5342465753424657), 'Seviper'),\n",
       " ((40.904806786050898, 33.219178082191782), 'Chatot'),\n",
       " ((53.251649387370406, 2.054794520547945), 'Stantler'),\n",
       " ((22.290292177191329, 79.452054794520549), 'Stunky'),\n",
       " ((31.244109330819981, 56.5068493150685), 'Larvesta'),\n",
       " ((36.003770028275213, 44.520547945205479), 'Roselia'),\n",
       " ((15.032987747408106, 96.232876712328761), 'Numel'),\n",
       " ((32.23374175306315, 52.739726027397261), 'Litleo'),\n",
       " ((35.391140433553254, 44.520547945205479), 'Gloom'),\n",
       " ((43.590951932139497, 23.972602739726025), 'Brionne'),\n",
       " ((52.591894439208296, 0.68493150684931503), 'Maractus'),\n",
       " ((39.443920829406224, 33.219178082191782), 'Ponyta'),\n",
       " ((30.537229029217723, 55.479452054794521), 'Lileep'),\n",
       " ((34.731385485391144, 44.520547945205479), 'Weepinbell'),\n",
       " ((19.886899151743638, 81.164383561643831), 'Skrelp'),\n",
       " ((38.92554194156456, 33.219178082191782), 'Braixen'),\n",
       " ((48.350612629594721, 9.2465753424657535), 'Liepard'),\n",
       " ((51.225259189443918, 2.054794520547945), 'Zangoose'),\n",
       " ((50.518378887841664, 3.4246575342465753), 'Chimecho'),\n",
       " ((44.62770970782281, 17.80821917808219), 'Mothim'),\n",
       " ((42.130065975494816, 23.972602739726025), 'Dewott'),\n",
       " ((48.491988689915175, 7.5342465753424657), 'Arbok'),\n",
       " ((49.575871819038639, 4.10958904109589), 'Sliggoo'),\n",
       " ((37.653157398680491, 33.219178082191782), 'Charmeleon'),\n",
       " ((37.653157398680491, 33.219178082191782), 'Quilava'),\n",
       " ((34.731385485391144, 40.410958904109592), 'Graveler'),\n",
       " ((13.854853911404335, 92.465753424657535), 'Golett'),\n",
       " ((49.575871819038639, 2.054794520547945), 'Purugly'),\n",
       " ((34.118755890669178, 40.410958904109592), 'Onix'),\n",
       " ((23.091423185673893, 67.808219178082197), 'Chinchou'),\n",
       " ((49.858623939679546, 0.68493150684931503), 'Carnivine'),\n",
       " ((28.180961357210176, 54.794520547945204), 'Vibrava'),\n",
       " ((30.537229029217723, 48.630136986301373), 'Tirtouga'),\n",
       " ((30.537229029217723, 48.630136986301373), 'Omanyte'),\n",
       " ((30.537229029217723, 48.630136986301373), 'Kabuto'),\n",
       " ((49.010367577756838, 2.054794520547945), 'Chansey'),\n",
       " ((37.653157398680491, 29.452054794520549), 'Shiinotic'),\n",
       " ((49.010367577756838, 0.68493150684931503), 'Cherrim'),\n",
       " ((48.256361922714419, 2.054794520547945), 'Audino'),\n",
       " ((39.443920829406224, 23.972602739726025), 'Pyukumuku'),\n",
       " ((24.458058435438264, 60.273972602739725), 'Pumpkaboo'),\n",
       " ((43.590951932139497, 11.986301369863012), 'Zweilous'),\n",
       " ((34.118755890669178, 35.61643835616438), 'Mudbray'),\n",
       " ((47.360980207351552, 2.054794520547945), 'Kecleon'),\n",
       " ((47.360980207351552, 2.054794520547945), 'Vigoroth'),\n",
       " ((47.360980207351552, 2.054794520547945), 'Persian'),\n",
       " ((40.904806786050898, 17.80821917808219), 'Vivillon'),\n",
       " ((23.091423185673893, 61.986301369863014), 'Aron'),\n",
       " ((18.944392082940624, 72.260273972602747), 'Joltik'),\n",
       " ((15.032987747408106, 81.164383561643831), 'Mareanie'),\n",
       " ((43.590951932139497, 9.2465753424657535), 'Mightyena'),\n",
       " ((37.653157398680491, 23.972602739726025), 'Prinplup'),\n",
       " ((37.653157398680491, 23.972602739726025), 'Frogadier'),\n",
       " ((37.653157398680491, 23.972602739726025), 'Wartortle'),\n",
       " ((37.653157398680491, 23.972602739726025), 'Croconaw'),\n",
       " ((45.805843543826583, 2.7397260273972601), 'Illumise'),\n",
       " ((45.805843543826583, 2.7397260273972601), 'Volbeat'),\n",
       " ((21.489161168708765, 63.013698630136986), 'Dwebble'),\n",
       " ((46.418473138548535, 0.68493150684931503), 'Tangela'),\n",
       " ((36.003770028275213, 26.712328767123289), 'Ariados'),\n",
       " ((33.27049952874647, 33.219178082191782), 'Farfetch’d'),\n",
       " ((35.391140433553254, 26.712328767123289), 'Beedrill'),\n",
       " ((15.032987747408106, 77.054794520547944), 'Ducklett'),\n",
       " ((12.34684260131951, 83.561643835616437), 'Beldum'),\n",
       " ((12.34684260131951, 83.561643835616437), 'Bronzor'),\n",
       " ((36.003770028275213, 23.972602739726025), 'Wailmer'),\n",
       " ((15.032987747408106, 76.027397260273972), 'Ferroseed'),\n",
       " ((45.098963242224315, 0.68493150684931503), 'Sunflora'),\n",
       " ((31.99811498586239, 33.219178082191782), 'Magby'),\n",
       " ((43.590951932139497, 4.10958904109589), 'Dragonair'),\n",
       " ((43.590951932139497, 4.10958904109589), 'Shelgon'),\n",
       " ((32.89349670122526, 30.82191780821918), 'Floette'),\n",
       " ((44.62770970782281, 1.3698630136986301), 'Wormadam'),\n",
       " ((28.934967012252592, 40.410958904109592), 'Rhyhorn'),\n",
       " ((28.180961357210176, 42.12328767123288), 'Stufful'),\n",
       " ((34.118755890669178, 26.712328767123289), 'Dustox'),\n",
       " ((43.590951932139497, 2.054794520547945), 'Linoone'),\n",
       " ((43.590951932139497, 2.054794520547945), 'Watchog'),\n",
       " ((39.443920829406224, 11.986301369863012), 'Sudowoodo'),\n",
       " ((30.914231856738926, 33.219178082191782), 'Tranquill'),\n",
       " ((30.537229029217723, 33.219178082191782), 'Trumbeak'),\n",
       " ((34.118755890669178, 23.972602739726025), 'Poliwhirl'),\n",
       " ((42.695570216776623, 2.054794520547945), 'Gumshoos'),\n",
       " ((37.653157398680491, 14.383561643835616), 'Gurdurr'),\n",
       " ((37.653157398680491, 14.383561643835616), 'Machoke'),\n",
       " ((7.1630537229029221, 90.410958904109577), 'Litwick'),\n",
       " ((42.459943449575874, 2.054794520547945), 'Dunsparce'),\n",
       " ((42.459943449575874, 2.054794520547945), 'Furret'),\n",
       " ((37.653157398680491, 13.698630136986301), 'Eelektrik'),\n",
       " ((37.653157398680491, 13.698630136986301), 'Plusle'),\n",
       " ((37.653157398680491, 13.698630136986301), 'Pachirisu'),\n",
       " ((37.653157398680491, 13.698630136986301), 'Minun'),\n",
       " ((29.783223374175304, 33.219178082191782), 'Rufflet'),\n",
       " ((29.783223374175304, 33.219178082191782), 'Growlithe'),\n",
       " ((42.130065975494816, 2.054794520547945), 'Raticate'),\n",
       " ((17.10650329877474, 64.38356164383562), 'Gastly'),\n",
       " ((31.621112158341187, 27.739726027397261), 'Tyrunt'),\n",
       " ((29.406220546654101, 33.219178082191782), 'Pidgeotto'),\n",
       " ((35.391140433553254, 17.80821917808219), 'Beautifly'),\n",
       " ((35.391140433553254, 17.80821917808219), 'Butterfree'),\n",
       " ((42.130065975494816, 0.68493150684931503), 'Servine'),\n",
       " ((31.244109330819981, 26.712328767123289), 'Whirlipede'),\n",
       " ((4.3826578699340244, 93.835616438356169), 'Marill'),\n",
       " ((34.731385485391144, 17.80821917808219), 'Ledian'),\n",
       " ((34.731385485391144, 17.80821917808219), 'Yanma'),\n",
       " ((28.180961357210176, 33.219178082191782), 'Staravia'),\n",
       " ((39.443920829406224, 4.10958904109589), 'Fraxure'),\n",
       " ((28.699340245051836, 30.82191780821918), 'Swirlix'),\n",
       " ((28.699340245051836, 30.82191780821918), 'Spritzee'),\n",
       " ((19.886899151743638, 52.054794520547944), 'Salandit'),\n",
       " ((16.44674835061263, 60.273972602739725), 'Phantump'),\n",
       " ((28.180961357210176, 30.136986301369863), 'Lombre'),\n",
       " ((6.3147973609802079, 84.246575342465761), 'Nincada'),\n",
       " ((10.226201696512724, 73.972602739726028), 'Sandile'),\n",
       " ((28.180961357210176, 28.767123287671232), 'Skiploom'),\n",
       " ((34.731385485391144, 11.986301369863012), 'Boldore'),\n",
       " ((15.032987747408106, 60.273972602739725), 'Carvanha'),\n",
       " ((9.0009425070688032, 75.342465753424662), 'Barboach'),\n",
       " ((37.653157398680491, 3.4246575342465753), 'Wobbuffet'),\n",
       " ((28.934967012252592, 23.972602739726025), 'Clamperl'),\n",
       " ((12.34684260131951, 65.06849315068493), 'Croagunk'),\n",
       " ((37.653157398680491, 1.3698630136986301), 'Parasect'),\n",
       " ((18.190386427898208, 50.0), 'Slowpoke'),\n",
       " ((33.176248821866167, 11.986301369863012), 'Nosepass'),\n",
       " ((37.653157398680491, 0.68493150684931503), 'Quilladin'),\n",
       " ((37.653157398680491, 0.68493150684931503), 'Bayleef'),\n",
       " ((37.653157398680491, 0.68493150684931503), 'Grotle'),\n",
       " ((37.653157398680491, 0.68493150684931503), 'Grovyle'),\n",
       " ((35.391140433553254, 6.1643835616438354), 'Vanillish'),\n",
       " ((28.180961357210176, 23.972602739726025), 'Staryu'),\n",
       " ((19.886899151743638, 44.520547945205479), 'Oddish'),\n",
       " ((6.6918001885014133, 77.054794520547944), 'Wingull'),\n",
       " ((31.99811498586239, 13.698630136986301), 'Flaaffy'),\n",
       " ((36.003770028275213, 3.4246575342465753), 'Kadabra'),\n",
       " ((36.003770028275213, 3.4246575342465753), 'Cosmoem'),\n",
       " ((23.091423185673893, 35.61643835616438), 'Hippopotas'),\n",
       " ((23.091423185673893, 35.61643835616438), 'Phanpy'),\n",
       " ((6.4561734213006599, 77.054794520547944), 'Dewpider'),\n",
       " ((6.4561734213006599, 77.054794520547944), 'Surskit'),\n",
       " ((4.3826578699340244, 82.191780821917803), 'Swinub'),\n",
       " ((31.762488218661638, 13.698630136986301), 'Luxio'),\n",
       " ((23.091423185673893, 34.589041095890408), 'Delibird'),\n",
       " ((36.003770028275213, 2.054794520547945), 'Delcatty'),\n",
       " ((31.244109330819981, 13.698630136986301), 'Elekid'),\n",
       " ((18.755890669180019, 44.520547945205479), 'Bulbasaur'),\n",
       " ((22.101790763430724, 35.61643835616438), 'Drilbur'),\n",
       " ((35.391140433553254, 2.054794520547945), 'Porygon'),\n",
       " ((34.731385485391144, 3.4246575342465753), 'Gothorita'),\n",
       " ((7.9641847313854859, 69.863013698630141), 'Meditite'),\n",
       " ((34.731385485391144, 2.054794520547945), 'Munchlax'),\n",
       " ((29.783223374175304, 14.383561643835616), 'Mienfoo'),\n",
       " ((15.739868049010367, 48.630136986301373), 'Binacle'),\n",
       " ((31.99811498586239, 7.5342465753424657), 'Nidorina'),\n",
       " ((31.99811498586239, 7.5342465753424657), 'Nidorino'),\n",
       " ((34.118755890669178, 2.054794520547945), 'Lickitung'),\n",
       " ((31.621112158341187, 8.2191780821917799), 'Amaura'),\n",
       " ((33.788878416588126, 2.7397260273972601), 'Kricketune'),\n",
       " ((29.783223374175304, 11.986301369863012), 'Cranidos'),\n",
       " ((28.180961357210176, 15.753424657534246), 'Nuzleaf'),\n",
       " ((12.34684260131951, 54.794520547945204), 'Gible'),\n",
       " ((19.886899151743638, 35.61643835616438), 'Cubone'),\n",
       " ((33.459000942507068, 1.3698630136986301), 'Swadloon'),\n",
       " ((32.469368520263906, 3.4246575342465753), 'Duosion'),\n",
       " ((3.0160226201696512, 77.054794520547944), 'Wimpod'),\n",
       " ((23.091423185673893, 26.712328767123289), 'Skorupi'),\n",
       " ((12.34684260131951, 53.424657534246577), 'Klink'),\n",
       " ((27.709707822808671, 14.383561643835616), 'Crabrawler'),\n",
       " ((32.469368520263906, 2.054794520547945), 'Herdier'),\n",
       " ((20.876531573986806, 30.82191780821918), 'Clefairy'),\n",
       " ((19.886899151743638, 33.219178082191782), 'Litten'),\n",
       " ((29.2177191328935, 9.2465753424657535), 'Pancham'),\n",
       " ((12.34684260131951, 51.369863013698634), 'Baltoy'),\n",
       " ((23.091423185673893, 23.972602739726025), 'Buizel'),\n",
       " ((23.091423185673893, 23.972602739726025), 'Finneon'),\n",
       " ((23.091423185673893, 23.972602739726025), 'Luvdisc'),\n",
       " ((23.091423185673893, 23.972602739726025), 'Clauncher'),\n",
       " ((31.244109330819981, 2.054794520547945), 'Spinda'),\n",
       " ((31.244109330819981, 2.054794520547945), 'Aipom'),\n",
       " ((31.244109330819981, 2.054794520547945), 'Loudred'),\n",
       " ((1.8378887841658813, 75.342465753424662), 'Wooper'),\n",
       " ((30.537229029217723, 3.4246575342465753), 'Espurr'),\n",
       " ((18.473138548539115, 33.219178082191782), 'Pansear'),\n",
       " ((18.190386427898208, 33.219178082191782), 'Darumaka'),\n",
       " ((19.886899151743638, 28.767123287671232), 'Rowlet'),\n",
       " ((28.180961357210176, 7.5342465753424657), 'Koffing'),\n",
       " ((21.489161168708765, 23.972602739726025), 'Seel'),\n",
       " ((21.489161168708765, 23.972602739726025), 'Krabby'),\n",
       " ((21.489161168708765, 23.972602739726025), 'Shellos'),\n",
       " ((20.876531573986806, 25.0), 'Woobat'),\n",
       " ((29.783223374175304, 2.054794520547945), 'Buneary'),\n",
       " ((17.10650329877474, 33.219178082191782), 'Doduo'),\n",
       " ((17.10650329877474, 33.219178082191782), 'Torchic'),\n",
       " ((17.10650329877474, 33.219178082191782), 'Swablu'),\n",
       " ((12.34684260131951, 44.520547945205479), 'Bellsprout'),\n",
       " ((29.783223374175304, 0.68493150684931503), 'Skiddo'),\n",
       " ((19.886899151743638, 25.0), 'Natu'),\n",
       " ((16.44674835061263, 33.219178082191782), 'Charmander'),\n",
       " ((16.44674835061263, 33.219178082191782), 'Cyndaquil'),\n",
       " ((16.44674835061263, 33.219178082191782), 'Chimchar'),\n",
       " ((14.278982092365695, 38.356164383561641), 'Cutiefly'),\n",
       " ((19.886899151743638, 23.972602739726025), 'Goldeen'),\n",
       " ((19.886899151743638, 23.972602739726025), 'Psyduck'),\n",
       " ((19.886899151743638, 23.972602739726025), 'Popplio'),\n",
       " ((16.069745523091424, 33.219178082191782), 'Tepig'),\n",
       " ((24.458058435438264, 11.986301369863012), 'Deerling'),\n",
       " ((15.834118755890669, 33.219178082191782), 'Fennekin'),\n",
       " ((9.7078228086710663, 47.260273972602739), 'Spheal'),\n",
       " ((23.091423185673893, 13.698630136986301), 'Voltorb'),\n",
       " ((12.34684260131951, 40.410958904109592), 'Larvitar'),\n",
       " ((12.34684260131951, 40.410958904109592), 'Geodude'),\n",
       " ((10.414703110273326, 44.520547945205479), 'Foongus'),\n",
       " ((18.473138548539115, 23.972602739726025), 'Panpour'),\n",
       " ((26.343072573044296, 3.4246575342465753), 'Unown'),\n",
       " ((17.860508953817153, 23.972602739726025), 'Squirtle'),\n",
       " ((17.860508953817153, 23.972602739726025), 'Piplup'),\n",
       " ((17.860508953817153, 23.972602739726025), 'Froakie'),\n",
       " ((17.860508953817153, 23.972602739726025), 'Totodile'),\n",
       " ((6.6918001885014133, 50.684931506849317), 'Jigglypuff'),\n",
       " ((23.091423185673893, 9.2465753424657535), 'Zorua'),\n",
       " ((17.10650329877474, 23.972602739726025), 'Mudkip'),\n",
       " ((12.34684260131951, 35.61643835616438), 'Sandshrew'),\n",
       " ((17.10650329877474, 23.287671232876711), 'Mime Jr.'),\n",
       " ((13.854853911404335, 30.82191780821918), 'Flabébé'),\n",
       " ((24.458058435438264, 3.4246575342465753), 'Elgyem'),\n",
       " ((7.9641847313854859, 44.520547945205479), 'Budew'),\n",
       " ((23.845428840716306, 4.7945205479452051), 'Snover'),\n",
       " ((15.032987747408106, 26.712328767123289), 'Venonat'),\n",
       " ((16.069745523091424, 23.972602739726025), 'Corphish'),\n",
       " ((16.069745523091424, 23.972602739726025), 'Oshawott'),\n",
       " ((19.886899151743638, 13.698630136986301), 'Pikachu'),\n",
       " ((22.290292177191329, 7.5342465753424657), 'Trubbish'),\n",
       " ((7.492931196983978, 43.835616438356162), 'Kirlia'),\n",
       " ((9.2365692742695575, 39.041095890410958), 'Helioptile'),\n",
       " ((24.458058435438264, 0.68493150684931503), 'Cacnea'),\n",
       " ((12.34684260131951, 30.82191780821918), 'Snubbull'),\n",
       " ((15.032987747408106, 23.972602739726025), 'Shellder'),\n",
       " ((21.489161168708765, 7.5342465753424657), 'Grimer'),\n",
       " ((23.091423185673893, 3.4246575342465753), 'Spoink'),\n",
       " ((11.16870876531574, 33.219178082191782), 'Vulpix'),\n",
       " ((21.489161168708765, 6.8493150684931505), 'Exeggcute'),\n",
       " ((9.7078228086710663, 35.61643835616438), 'Trapinch'),\n",
       " ((23.091423185673893, 2.054794520547945), 'Teddiursa'),\n",
       " ((3.8171536286522154, 49.315068493150683), 'Zubat'),\n",
       " ((22.101790763430724, 3.4246575342465753), 'Drowzee'),\n",
       " ((15.032987747408106, 20.547945205479451), 'Smoochum'),\n",
       " ((13.854853911404335, 22.602739726027394), 'Yamask'),\n",
       " ((21.489161168708765, 2.054794520547945), 'Eevee'),\n",
       " ((3.1102733270499527, 47.945205479452049), 'Shedinja'),\n",
       " ((1.8378887841658813, 50.684931506849317), 'Igglybuff'),\n",
       " ((12.34684260131951, 23.972602739726025), 'Remoraid'),\n",
       " ((12.34684260131951, 23.972602739726025), 'Poliwag'),\n",
       " ((19.886899151743638, 4.10958904109589), 'Axew'),\n",
       " ((15.032987747408106, 14.383561643835616), 'Timburr'),\n",
       " ((15.032987747408106, 14.383561643835616), 'Mankey'),\n",
       " ((15.032987747408106, 14.383561643835616), 'Machop'),\n",
       " ((7.492931196983978, 33.219178082191782), 'Fletchling'),\n",
       " ((0.28275212064090482, 50.684931506849317), 'Azurill'),\n",
       " ((8.6239396795475969, 29.452054794520549), 'Morelull'),\n",
       " ((10.791705937794534, 23.972602739726025), 'Horsea'),\n",
       " ((6.0791705937794527, 35.61643835616438), 'Diglett'),\n",
       " ((10.414703110273326, 23.972602739726025), 'Tympole'),\n",
       " ((6.6918001885014133, 33.219178082191782), 'Taillow'),\n",
       " ((10.791705937794534, 22.602739726027394), 'Duskull'),\n",
       " ((10.791705937794534, 22.602739726027394), 'Shuppet'),\n",
       " ((7.9641847313854859, 29.452054794520549), 'Cottonee'),\n",
       " ((6.0791705937794527, 33.219178082191782), 'Pikipek'),\n",
       " ((18.190386427898208, 2.7397260273972601), 'Karrablast'),\n",
       " ((5.8435438265786992, 33.219178082191782), 'Pidove'),\n",
       " ((18.755890669180019, 0.68493150684931503), 'Chikorita'),\n",
       " ((18.755890669180019, 0.68493150684931503), 'Turtwig'),\n",
       " ((5.6079170593779457, 33.219178082191782), 'Hoothoot'),\n",
       " ((5.6079170593779457, 33.219178082191782), 'Spearow'),\n",
       " ((18.473138548539115, 0.68493150684931503), 'Pansage'),\n",
       " ((17.10650329877474, 3.4246575342465753), 'Abra'),\n",
       " ((0.75400565504241279, 43.835616438356162), 'Ralts'),\n",
       " ((4.8067860508953819, 33.219178082191782), 'Pidgey'),\n",
       " ((17.10650329877474, 2.054794520547945), 'Glameow'),\n",
       " ((17.6248821866164, 0.68493150684931503), 'Chespin'),\n",
       " ((4.3826578699340244, 33.219178082191782), 'Slugma'),\n",
       " ((17.10650329877474, 1.3698630136986301), 'Sewaddle'),\n",
       " ((15.032987747408106, 6.1643835616438354), 'Cubchoo'),\n",
       " ((15.032987747408106, 6.1643835616438354), 'Vanillite'),\n",
       " ((17.10650329877474, 0.68493150684931503), 'Treecko'),\n",
       " ((12.34684260131951, 11.986301369863012), 'Deino'),\n",
       " ((3.8171536286522154, 33.219178082191782), 'Starly'),\n",
       " ((14.278982092365695, 6.1643835616438354), 'Bergmite'),\n",
       " ((13.477851083883131, 7.5342465753424657), 'Gulpin'),\n",
       " ((16.069745523091424, 0.68493150684931503), 'Snivy'),\n",
       " ((10.791705937794534, 13.698630136986301), 'Electrike'),\n",
       " ((10.791705937794534, 13.698630136986301), 'Blitzle'),\n",
       " ((3.8171536286522154, 30.82191780821918), 'Togepi'),\n",
       " ((15.032987747408106, 2.7397260273972601), 'Shelmet'),\n",
       " ((5.3722902921771913, 26.712328767123289), 'Venipede'),\n",
       " ((4.3826578699340244, 28.767123287671232), 'Hoppip'),\n",
       " ((9.0009425070688032, 16.780821917808218), 'Inkay'),\n",
       " ((4.3826578699340244, 26.712328767123289), 'Spinarak'),\n",
       " ((12.34684260131951, 6.1643835616438354), 'Snorunt'),\n",
       " ((2.2620169651272386, 30.82191780821918), 'Cleffa'),\n",
       " ((2.4976437323279925, 30.136986301369863), 'Lotad'),\n",
       " ((9.7078228086710663, 11.986301369863012), 'Bonsly'),\n",
       " ((8.6239396795475969, 14.383561643835616), 'Riolu'),\n",
       " ((12.34684260131951, 4.10958904109589), 'Jangmo-o'),\n",
       " ((12.34684260131951, 4.10958904109589), 'Goomy'),\n",
       " ((12.34684260131951, 4.10958904109589), 'Bagon'),\n",
       " ((12.34684260131951, 4.10958904109589), 'Dratini'),\n",
       " ((3.8171536286522154, 25.0), 'Noibat'),\n",
       " ((7.9641847313854859, 13.698630136986301), 'Mareep'),\n",
       " ((12.34684260131951, 2.7397260273972601), 'Grubbin'),\n",
       " ((6.0791705937794527, 17.80821917808219), 'Ledyba'),\n",
       " ((12.34684260131951, 2.054794520547945), 'Minccino'),\n",
       " ((7.9641847313854859, 11.986301369863012), 'Roggenrola'),\n",
       " ((7.9641847313854859, 11.986301369863012), 'Rockruff'),\n",
       " ((7.1630537229029221, 13.698630136986301), 'Tynamo'),\n",
       " ((1.413760603204524, 26.712328767123289), 'Kakuna'),\n",
       " ((8.3883129123468425, 9.2465753424657535), 'Purrloin'),\n",
       " ((9.0009425070688032, 7.5342465753424657), 'Ekans'),\n",
       " ((10.226201696512724, 3.4246575342465753), 'Munna'),\n",
       " ((0.56550424128180965, 26.712328767123289), 'Weedle'),\n",
       " ((5.7492931196983976, 13.698630136986301), 'Shinx'),\n",
       " ((9.7078228086710663, 3.4246575342465753), 'Gothita'),\n",
       " ((9.7078228086710663, 3.4246575342465753), 'Solosis'),\n",
       " ((10.791705937794534, 0.68493150684931503), 'Shroomish'),\n",
       " ((9.7078228086710663, 2.7397260273972601), 'Pineco'),\n",
       " ((3.581526861451461, 17.80821917808219), 'Combee'),\n",
       " ((0.98963242224316683, 23.972602739726025), 'Magikarp'),\n",
       " ((0.98963242224316683, 23.972602739726025), 'Feebas'),\n",
       " ((9.7078228086710663, 2.054794520547945), 'Meowth'),\n",
       " ((7.1630537229029221, 7.5342465753424657), 'Nidoran♀'),\n",
       " ((8.6239396795475969, 3.4246575342465753), 'Chingling'),\n",
       " ((9.7078228086710663, 0.68493150684931503), 'Steenee'),\n",
       " ((6.8803016022620165, 7.5342465753424657), 'Nidoran♂'),\n",
       " ((9.0009425070688032, 2.054794520547945), 'Ditto'),\n",
       " ((0.094250706880301599, 23.972602739726025), 'Wishiwashi'),\n",
       " ((8.6239396795475969, 1.3698630136986301), 'Paras'),\n",
       " ((3.2516493873704055, 14.383561643835616), 'Makuhita'),\n",
       " ((7.9641847313854859, 2.054794520547945), 'Slakoth'),\n",
       " ((7.9641847313854859, 0.68493150684931503), 'Petilil'),\n",
       " ((7.1630537229029221, 2.054794520547945), 'Lillipup'),\n",
       " ((1.8378887841658813, 14.383561643835616), 'Tyrogue'),\n",
       " ((7.1630537229029221, 0.68493150684931503), 'Cherubi'),\n",
       " ((1.413760603204524, 13.698630136986301), 'Pichu'),\n",
       " ((5.3722902921771913, 3.4246575342465753), 'Wynaut'),\n",
       " ((2.4976437323279925, 9.2465753424657535), 'Poochyena'),\n",
       " ((5.3722902921771913, 2.054794520547945), 'Skitty'),\n",
       " ((5.1837888784165882, 2.054794520547945), 'Patrat'),\n",
       " ((4.9952874646559851, 2.054794520547945), 'Rattata'),\n",
       " ((4.9952874646559851, 2.054794520547945), 'Yungoos'),\n",
       " ((4.3826578699340244, 2.054794520547945), 'Bidoof'),\n",
       " ((4.3826578699340244, 2.054794520547945), 'Smeargle'),\n",
       " ((4.3826578699340244, 0.68493150684931503), 'Fomantis'),\n",
       " ((3.4401508011310082, 2.054794520547945), 'Zigzagoon'),\n",
       " ((3.4401508011310082, 2.054794520547945), 'Whismur'),\n",
       " ((3.2516493873704055, 2.054794520547945), 'Bunnelby'),\n",
       " ((2.827521206409048, 2.7397260273972601), 'Burmy'),\n",
       " ((2.4976437323279925, 2.054794520547945), 'Happiny'),\n",
       " ((2.0735155513666355, 2.7397260273972601), 'Spewpa'),\n",
       " ((2.167766258246937, 2.054794520547945), 'Sentret'),\n",
       " ((2.4976437323279925, 0.68493150684931503), 'Seedot'),\n",
       " ((1.413760603204524, 2.7397260273972601), 'Cascoon'),\n",
       " ((1.413760603204524, 2.7397260273972601), 'Silcoon'),\n",
       " ((1.413760603204524, 2.7397260273972601), 'Metapod'),\n",
       " ((0.98963242224316683, 3.4246575342465753), 'Cosmog'),\n",
       " ((1.8378887841658813, 0.68493150684931503), 'Bounsweet'),\n",
       " ((0.98963242224316683, 2.7397260273972601), 'Scatterbug'),\n",
       " ((0.56550424128180965, 2.7397260273972601), 'Caterpie'),\n",
       " ((0.56550424128180965, 2.7397260273972601), 'Wurmple'),\n",
       " ((0.3770028275212064, 2.7397260273972601), 'Kricketot'),\n",
       " ((0.1885014137606032, 0.68493150684931503), 'Sunkern')]"
      ]
     },
     "execution_count": 264,
     "metadata": {},
     "output_type": "execute_result"
    }
   ],
   "source": [
    "sorted(((poke_score(name), name) for name in set(pokemon_df7['species'].values.flatten())\n",
    "        if not mega(name)),\n",
    "       reverse=True, key=lambda x: 1*x[0][0] + 0.4*x[0][1])"
   ]
  },
  {
   "cell_type": "code",
   "execution_count": 259,
   "metadata": {
    "collapsed": true
   },
   "outputs": [],
   "source": [
    "df = pd.DataFrame([{'stat': poke_score(name)[0], 'cover': poke_score(name)[1], 'name': name}\n",
    "                   for name in set(pokemon_df7['species'].values.flatten())])"
   ]
  },
  {
   "cell_type": "markdown",
   "metadata": {},
   "source": [
    "All kinds of pokemon"
   ]
  },
  {
   "cell_type": "code",
   "execution_count": 261,
   "metadata": {
    "collapsed": false
   },
   "outputs": [
    {
     "data": {
      "text/plain": [
       "<seaborn.axisgrid.JointGrid at 0x113ab0358>"
      ]
     },
     "execution_count": 261,
     "metadata": {},
     "output_type": "execute_result"
    },
    {
     "data": {
      "image/png": "[encoded data removed]",
      "text/plain": [
       "<matplotlib.figure.Figure at 0x113ab0f98>"
      ]
     },
     "metadata": {},
     "output_type": "display_data"
    }
   ],
   "source": [
    "sns.jointplot('stat', 'cover', data=df, kind='kde')"
   ]
  },
  {
   "cell_type": "markdown",
   "metadata": {},
   "source": [
    "Only the legendaries"
   ]
  },
  {
   "cell_type": "code",
   "execution_count": 37,
   "metadata": {
    "collapsed": false
   },
   "outputs": [
    {
     "ename": "NameError",
     "evalue": "name 'df_plot' is not defined",
     "output_type": "error",
     "traceback": [
      "\u001b[0;31m------------------------------------------------------------------\u001b[0m",
      "\u001b[0;31mNameError\u001b[0m                        Traceback (most recent call last)",
      "\u001b[0;32m<ipython-input-37-e2dc10c24940>\u001b[0m in \u001b[0;36m<module>\u001b[0;34m()\u001b[0m\n\u001b[1;32m      1\u001b[0m \u001b[0mjdf_plot\u001b[0m \u001b[0;34m=\u001b[0m \u001b[0mdf\u001b[0m\u001b[0;34m[\u001b[0m\u001b[0mlist\u001b[0m\u001b[0;34m(\u001b[0m\u001b[0mlegendary\u001b[0m\u001b[0;34m(\u001b[0m\u001b[0mname\u001b[0m\u001b[0;34m)\u001b[0m \u001b[0;32mfor\u001b[0m \u001b[0mname\u001b[0m \u001b[0;32min\u001b[0m \u001b[0mdf\u001b[0m\u001b[0;34m[\u001b[0m\u001b[0;34m'name'\u001b[0m\u001b[0;34m]\u001b[0m\u001b[0;34m)\u001b[0m\u001b[0;34m]\u001b[0m\u001b[0;34m\u001b[0m\u001b[0m\n\u001b[0;32m----> 2\u001b[0;31m \u001b[0msns\u001b[0m\u001b[0;34m.\u001b[0m\u001b[0mjointplot\u001b[0m\u001b[0;34m(\u001b[0m\u001b[0;34m'stat'\u001b[0m\u001b[0;34m,\u001b[0m \u001b[0;34m'cover'\u001b[0m\u001b[0;34m,\u001b[0m \u001b[0mdata\u001b[0m\u001b[0;34m=\u001b[0m\u001b[0mdf_plot\u001b[0m\u001b[0;34m,\u001b[0m \u001b[0mxlim\u001b[0m\u001b[0;34m=\u001b[0m\u001b[0;34m[\u001b[0m\u001b[0;36m0\u001b[0m\u001b[0;34m,\u001b[0m \u001b[0;36m100\u001b[0m\u001b[0;34m]\u001b[0m\u001b[0;34m)\u001b[0m\u001b[0;34m\u001b[0m\u001b[0m\n\u001b[0m\u001b[1;32m      3\u001b[0m \u001b[0;31m#.plot_joint(sns.kdeplot, zorder=0, n_levels=20, shade=True, alpha=0.4, kernel='epa')\u001b[0m\u001b[0;34m\u001b[0m\u001b[0;34m\u001b[0m\u001b[0m\n",
      "\u001b[0;31mNameError\u001b[0m: name 'df_plot' is not defined"
     ]
    }
   ],
   "source": [
    "jdf_plot = df[list(legendary(name) for name in df['name'])]\n",
    "sns.jointplot('stat', 'cover', data=df_plot, xlim=[0, 100])\n",
    "#.plot_joint(sns.kdeplot, zorder=0, n_levels=20, shade=True, alpha=0.4, kernel='epa')"
   ]
  },
  {
   "cell_type": "markdown",
   "metadata": {},
   "source": [
    "not the legendaries or the megas"
   ]
  },
  {
   "cell_type": "code",
   "execution_count": null,
   "metadata": {
    "collapsed": false
   },
   "outputs": [],
   "source": [
    "df_plot = df[list((not legendary(name) and not mega(name)) for name in df['name'])]\n",
    "sns.jointplot('stat', 'cover', data=df_plot)"
   ]
  },
  {
   "cell_type": "code",
   "execution_count": null,
   "metadata": {
    "collapsed": true
   },
   "outputs": [],
   "source": []
  },
  {
   "cell_type": "code",
   "execution_count": null,
   "metadata": {
    "collapsed": false
   },
   "outputs": [],
   "source": [
    "NTRIALS = 1000\n",
    "\n",
    "rows = []\n",
    "for _ in range(int(1e4)):\n",
    "    team = sample(list(pokemon_types), 6)\n",
    "    attack, defense = map(np.mean, zip(*map(types_score, team)))\n",
    "    rows.append({\n",
    "        'attack': attack,\n",
    "        'defense': defense\n",
    "    })\n",
    "\n",
    "team_scores = pd.DataFrame(rows)\n",
    "\n",
    "pipe = pipeline.make_pipeline(\n",
    "    preprocessing.StandardScaler(),\n",
    "    preprocessing.MinMaxScaler(),\n",
    ")\n",
    "\n",
    "def f(x):\n",
    "    print(x, type(x))\n",
    "    \n",
    "print(team_scores.isnull().values.any())\n",
    "    \n",
    "team_scores = pd.DataFrame(rows)\n",
    "team_scores[['attack', 'defense']] = team_scores[['attack', 'defense']].apply(\n",
    "    lambda df: pipe.fit_transform(f(df.values)))\n",
    "\n",
    "# sns.jointplot('attack', 'defense', data=team_scores, kind='kde')"
   ]
  },
  {
   "cell_type": "code",
   "execution_count": null,
   "metadata": {
    "collapsed": true
   },
   "outputs": [],
   "source": []
  },
  {
   "cell_type": "code",
   "execution_count": null,
   "metadata": {
    "collapsed": true
   },
   "outputs": [],
   "source": []
  },
  {
   "cell_type": "code",
   "execution_count": null,
   "metadata": {
    "collapsed": false
   },
   "outputs": [],
   "source": [
    "gen6"
   ]
  },
  {
   "cell_type": "code",
   "execution_count": null,
   "metadata": {
    "collapsed": true
   },
   "outputs": [],
   "source": []
  }
 ],
 "metadata": {
  "kernelspec": {
   "display_name": "Python 3",
   "language": "python",
   "name": "python3"
  },
  "language_info": {
   "codemirror_mode": {
    "name": "ipython",
    "version": 3
   },
   "file_extension": ".py",
   "mimetype": "text/x-python",
   "name": "python",
   "nbconvert_exporter": "python",
   "pygments_lexer": "ipython3",
   "version": "3.6.0"
  }
 },
 "nbformat": 4,
 "nbformat_minor": 0
}
