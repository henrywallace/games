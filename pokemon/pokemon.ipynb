{
 "cells": [
  {
   "cell_type": "code",
   "execution_count": 65,
   "metadata": {
    "collapsed": true
   },
   "outputs": [],
   "source": [
    "from pokemon_types import gen6\n",
    "from functools import lru_cache\n",
    "from itertools import combinations, chain"
   ]
  },
  {
   "cell_type": "markdown",
   "metadata": {},
   "source": [
    "How many types are there, what are they?"
   ]
  },
  {
   "cell_type": "code",
   "execution_count": 21,
   "metadata": {
    "collapsed": false
   },
   "outputs": [
    {
     "name": "stdout",
     "output_type": "stream",
     "text": [
      "['bug', 'dark', 'dragon', 'electric', 'fairy', 'fighting', 'fire', 'flying', 'ghost', 'grass', 'ground', 'ice', 'normal', 'poison', 'psychic', 'rock', 'steel', 'water']\n"
     ]
    },
    {
     "data": {
      "text/plain": [
       "18"
      ]
     },
     "execution_count": 21,
     "metadata": {},
     "output_type": "execute_result"
    }
   ],
   "source": [
    "print(sorted(gen6))\n",
    "len(gen6)"
   ]
  },
  {
   "cell_type": "code",
   "execution_count": 39,
   "metadata": {
    "collapsed": false
   },
   "outputs": [],
   "source": [
    "@lru_cache(maxsize=3*len(gen6))\n",
    "def effective(type_, eff):\n",
    "    return {k for k, v in gen6[type_].items() if v == eff}"
   ]
  },
  {
   "cell_type": "code",
   "execution_count": 16,
   "metadata": {
    "collapsed": false
   },
   "outputs": [
    {
     "name": "stdout",
     "output_type": "stream",
     "text": [
      "{'dark', 'grass', 'psychic'}\n",
      "{'steel', 'fairy', 'poison', 'fire', 'ghost', 'fighting', 'flying'}\n"
     ]
    }
   ],
   "source": [
    "print(effective('bug', 2.0))\n",
    "print(effective('bug', 0.5))"
   ]
  },
  {
   "cell_type": "markdown",
   "metadata": {},
   "source": [
    "What's the minimum sized subset of types that will be super effective to all other types?"
   ]
  },
  {
   "cell_type": "code",
   "execution_count": 40,
   "metadata": {
    "collapsed": true
   },
   "outputs": [],
   "source": [
    "def touches(types, eff):\n",
    "    return set.union(*(effective(t, eff) for t in types))\n",
    "\n",
    "def cover(k):\n",
    "    all_types = set(gen6)\n",
    "    sols = []\n",
    "    for combo in combinations(all_types, k):\n",
    "        if touches(combo, 2.0) == all_types:\n",
    "            sols.append(combo)\n",
    "    return sols"
   ]
  },
  {
   "cell_type": "code",
   "execution_count": 81,
   "metadata": {
    "collapsed": false
   },
   "outputs": [
    {
     "name": "stdout",
     "output_type": "stream",
     "text": [
      "[]\n"
     ]
    },
    {
     "data": {
      "text/plain": [
       "[['dark', 'electric', 'fighting', 'flying', 'ground', 'ice', 'poison'],\n",
       " ['dark', 'electric', 'fighting', 'flying', 'ground', 'ice', 'steel'],\n",
       " ['dark', 'fairy', 'fighting', 'grass', 'ground', 'poison', 'rock'],\n",
       " ['dark', 'fighting', 'flying', 'grass', 'ground', 'ice', 'poison'],\n",
       " ['dark', 'fighting', 'flying', 'grass', 'ground', 'ice', 'steel'],\n",
       " ['electric', 'fighting', 'flying', 'ghost', 'ground', 'ice', 'poison'],\n",
       " ['electric', 'fighting', 'flying', 'ghost', 'ground', 'ice', 'steel'],\n",
       " ['fairy', 'fighting', 'ghost', 'grass', 'ground', 'poison', 'rock'],\n",
       " ['fighting', 'flying', 'ghost', 'grass', 'ground', 'ice', 'poison'],\n",
       " ['fighting', 'flying', 'ghost', 'grass', 'ground', 'ice', 'steel']]"
      ]
     },
     "execution_count": 81,
     "metadata": {},
     "output_type": "execute_result"
    }
   ],
   "source": [
    "print(cover(6))\n",
    "sorted(sorted(types) for types in cover(7))"
   ]
  },
  {
   "cell_type": "markdown",
   "metadata": {},
   "source": [
    "That's cool, because in standard Pokémon games, a team can consist of up to 6 members.\n",
    "\n",
    "We can go further by asking for a team that also has minimum weaknesses. Let's arbitrarily define a score."
   ]
  },
  {
   "cell_type": "code",
   "execution_count": 64,
   "metadata": {
    "collapsed": false
   },
   "outputs": [],
   "source": [
    "def score(types):\n",
    "    a = touches(types, 2.0)\n",
    "    b = touches(types, 0.5)\n",
    "    c = touches(types, 0.0)\n",
    "    return 2*len(a) - len(b) - 2*len(c)"
   ]
  },
  {
   "cell_type": "code",
   "execution_count": 80,
   "metadata": {
    "collapsed": false
   },
   "outputs": [
    {
     "data": {
      "text/plain": [
       "[(18, ('ice', 'steel', 'ground', 'ghost', 'fairy', 'flying'), 6),\n",
       " (18, ('ice', 'steel', 'dark', 'ground', 'fairy', 'rock'), 6),\n",
       " (18, ('ice', 'steel', 'dark', 'ground', 'fairy', 'flying'), 6),\n",
       " (18, ('dark', 'ground', 'grass', 'bug', 'fairy', 'rock'), 6),\n",
       " (17, ('water', 'steel', 'ground', 'fire', 'fairy', 'electric'), 6),\n",
       " (17, ('water', 'steel', 'ground', 'fairy', 'flying', 'electric'), 6),\n",
       " (17, ('water', 'steel', 'ghost', 'fire', 'fairy', 'electric'), 6),\n",
       " (17, ('water', 'steel', 'dark', 'fire', 'fairy', 'electric'), 6),\n",
       " (17, ('steel', 'ground', 'grass', 'bug', 'fairy', 'rock'), 6),\n",
       " (17, ('steel', 'ground', 'ghost', 'grass', 'fire', 'fairy'), 6)]"
      ]
     },
     "execution_count": 80,
     "metadata": {},
     "output_type": "execute_result"
    }
   ],
   "source": [
    "combos = ((score(combo), combo, len(combo)) for combo\n",
    "           in chain.from_iterable(combinations(gen6, k) for k in range(1, 7)))\n",
    "sorted(combos, reverse=True)[:10]"
   ]
  },
  {
   "cell_type": "code",
   "execution_count": null,
   "metadata": {
    "collapsed": true
   },
   "outputs": [],
   "source": []
  }
 ],
 "metadata": {
  "kernelspec": {
   "display_name": "Python 3",
   "language": "python",
   "name": "python3"
  },
  "language_info": {
   "codemirror_mode": {
    "name": "ipython",
    "version": 3
   },
   "file_extension": ".py",
   "mimetype": "text/x-python",
   "name": "python",
   "nbconvert_exporter": "python",
   "pygments_lexer": "ipython3",
   "version": "3.5.2"
  }
 },
 "nbformat": 4,
 "nbformat_minor": 0
}
